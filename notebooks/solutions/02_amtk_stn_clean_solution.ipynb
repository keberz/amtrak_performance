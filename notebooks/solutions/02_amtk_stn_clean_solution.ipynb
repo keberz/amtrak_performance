{
 "cells": [
  {
   "cell_type": "markdown",
   "metadata": {
    "deletable": false,
    "editable": false,
    "nbgrader": {
     "cell_type": "markdown",
     "checksum": "dd42d43af307e48ee4641a90681dded6",
     "grade": false,
     "grade_id": "cell-74d17dd6939cc263",
     "locked": true,
     "schema_version": 3,
     "solution": false,
     "task": false
    }
   },
   "source": [
    "# Clean: Intercity Passenger Rail Service Station Performance Metrics\n",
    "\n",
    "This notebook \"cleans\" the combined [Amtrak](https://www.amtrak.com/home.html) station performance\n",
    "metrics, addressing issues involving missing values,string formatting, type conversion, and column\n",
    "redundancy. The notebook also leverages each station's \"State\" value to add \"Division\" and \"Region\"\n",
    "columns based on [US Census](https://www2.census.gov/geo/pdfs/maps-data/maps/reference/us_regdiv.pdf)\n",
    "geographic groupings. The notebook then writes the updated dataset to a CSV file for follow up\n",
    "cleaning, manipulation, and analysis.\n",
    "\n",
    "### Variable names\n",
    "\n",
    "A number of variable names in this project leverage the following abbreviations. The naming\n",
    "strategy is to strike a balance between brevity and readability:\n",
    "\n",
    "* `amtk`: Amtrak (reporting mark)\n",
    "* `chrt`: chart\n",
    "* `cols`: columns\n",
    "* `const`: constant\n",
    "* `cwd`: current working directory\n",
    "* `eb`: eastbound direction of travel\n",
    "* `lm`: linear model\n",
    "* `mi`: miles\n",
    "* `mm`: minutes (ISO 8601)\n",
    "* `nb`: northbound direction of travel\n",
    "* `psgr`: passenger\n",
    "* `qtr`: quarter\n",
    "* `rte`: route\n",
    "* `sb`: southbound direction of travel\n",
    "* `stats`: summary statistics\n",
    "* `stn`: station\n",
    "* `stns`: stations\n",
    "* `svc`: service\n",
    "* `trn`: train\n",
    "* `wb`: westbound direction of travel"
   ]
  },
  {
   "cell_type": "code",
   "execution_count": 1,
   "metadata": {},
   "outputs": [],
   "source": [
    "import json\n",
    "import numpy as np\n",
    "import pandas as pd\n",
    "import pathlib as pl\n",
    "import re\n",
    "import tomllib as tl\n",
    "\n",
    "import fra_amtrak.amtk_frame as frm\n",
    "import fra_amtrak.amtk_network as ntwk\n",
    "\n",
    "# Set random seed\n",
    "rdg = np.random.default_rng(24)"
   ]
  },
  {
   "cell_type": "markdown",
   "metadata": {
    "deletable": false,
    "editable": false,
    "nbgrader": {
     "cell_type": "markdown",
     "checksum": "0ff03b0ed46485d4894fa85eed8bcd81",
     "grade": false,
     "grade_id": "cell-d9c3ce9d15b3cc0d",
     "locked": true,
     "schema_version": 3,
     "solution": false,
     "task": false
    }
   },
   "source": [
    "## 1.0 Read files\n",
    "\n",
    "### 1.1 Resolve paths\n",
    "\n",
    "Instantiate instances of `pathlib.Path` to represent absolute paths to the `data/interim` and `data/processed` directories."
   ]
  },
  {
   "cell_type": "code",
   "execution_count": 2,
   "metadata": {},
   "outputs": [],
   "source": [
    "parent_path = pl.Path.cwd()  # current working directory\n",
    "parent_path\n",
    "\n",
    "data_interim_path = parent_path.joinpath(\"data\", \"interim\")\n",
    "data_processed_path = parent_path.joinpath(\"data\", \"processed\")"
   ]
  },
  {
   "cell_type": "markdown",
   "metadata": {
    "deletable": false,
    "editable": false,
    "nbgrader": {
     "cell_type": "markdown",
     "checksum": "f7ed6b951caceea88573ae0c3d942c66",
     "grade": false,
     "grade_id": "cell-8006373b4bad3571",
     "locked": true,
     "schema_version": 3,
     "solution": false,
     "task": false
    }
   },
   "source": [
    "### 1.2 Load constraints\n",
    "\n",
    "Load a companion [TOML](https://toml.io/en/) file containing constants."
   ]
  },
  {
   "cell_type": "code",
   "execution_count": 3,
   "metadata": {},
   "outputs": [],
   "source": [
    "filepath = parent_path.joinpath(\"notebook.toml\")\n",
    "with open(filepath, \"rb\") as file_obj:\n",
    "    const = tl.load(file_obj)\n",
    "\n",
    "# Access constants\n",
    "COLS = const[\"columns\"]"
   ]
  },
  {
   "cell_type": "markdown",
   "metadata": {
    "deletable": false,
    "editable": false,
    "nbgrader": {
     "cell_type": "markdown",
     "checksum": "b4314b024fc17aef6ec8e088eab32d87",
     "grade": false,
     "grade_id": "cell-bc3450d4ffda9ad0",
     "locked": true,
     "schema_version": 3,
     "solution": false,
     "task": false
    }
   },
   "source": [
    "### 1.3 Retrieve performance data (interim)"
   ]
  },
  {
   "cell_type": "code",
   "execution_count": 4,
   "metadata": {},
   "outputs": [],
   "source": [
    "filepath = data_interim_path.joinpath(\"station_performance_metrics-v1p0.csv\")\n",
    "stations = pd.read_csv(filepath)"
   ]
  },
  {
   "cell_type": "markdown",
   "metadata": {
    "deletable": false,
    "editable": false,
    "nbgrader": {
     "cell_type": "markdown",
     "checksum": "e15c962505c06c86869fbc259b26196e",
     "grade": false,
     "grade_id": "cell-62cf86ccd57d2d19",
     "locked": true,
     "schema_version": 3,
     "solution": false,
     "task": false
    }
   },
   "source": [
    "### 1.4 Review the `DataFrame`"
   ]
  },
  {
   "cell_type": "code",
   "execution_count": 5,
   "metadata": {},
   "outputs": [
    {
     "data": {
      "text/plain": [
       "(68412, 12)"
      ]
     },
     "execution_count": 5,
     "metadata": {},
     "output_type": "execute_result"
    }
   ],
   "source": [
    "stations.shape"
   ]
  },
  {
   "cell_type": "code",
   "execution_count": 6,
   "metadata": {},
   "outputs": [
    {
     "name": "stdout",
     "output_type": "stream",
     "text": [
      "<class 'pandas.core.frame.DataFrame'>\n",
      "RangeIndex: 68412 entries, 0 to 68411\n",
      "Data columns (total 12 columns):\n",
      " #   Column                      Non-Null Count  Dtype  \n",
      "---  ------                      --------------  -----  \n",
      " 0   Fiscal Year                 68412 non-null  int64  \n",
      " 1   Fiscal Quarter              68412 non-null  int64  \n",
      " 2   Service Line                68412 non-null  object \n",
      " 3   Service                     68412 non-null  object \n",
      " 4   Sub Service                 68412 non-null  object \n",
      " 5   Train Number                68412 non-null  int64  \n",
      " 6   Arrival Station Code        68412 non-null  object \n",
      " 7   Arrival Station Name        68412 non-null  object \n",
      " 8   Total Detraining Customers  68412 non-null  int64  \n",
      " 9   Late Detraining Customers   68412 non-null  int64  \n",
      " 10  Avg Min Late (Lt CS)        52705 non-null  float64\n",
      " 11  Avg Min Late (Lt C)         4668 non-null   float64\n",
      "dtypes: float64(2), int64(5), object(5)\n",
      "memory usage: 6.3+ MB\n"
     ]
    }
   ],
   "source": [
    "stations.info()"
   ]
  },
  {
   "cell_type": "code",
   "execution_count": 7,
   "metadata": {},
   "outputs": [
    {
     "data": {
      "text/html": [
       "<div>\n",
       "<style scoped>\n",
       "    .dataframe tbody tr th:only-of-type {\n",
       "        vertical-align: middle;\n",
       "    }\n",
       "\n",
       "    .dataframe tbody tr th {\n",
       "        vertical-align: top;\n",
       "    }\n",
       "\n",
       "    .dataframe thead th {\n",
       "        text-align: right;\n",
       "    }\n",
       "</style>\n",
       "<table border=\"1\" class=\"dataframe\">\n",
       "  <thead>\n",
       "    <tr style=\"text-align: right;\">\n",
       "      <th></th>\n",
       "      <th>Fiscal Year</th>\n",
       "      <th>Fiscal Quarter</th>\n",
       "      <th>Service Line</th>\n",
       "      <th>Service</th>\n",
       "      <th>Sub Service</th>\n",
       "      <th>Train Number</th>\n",
       "      <th>Arrival Station Code</th>\n",
       "      <th>Arrival Station Name</th>\n",
       "      <th>Total Detraining Customers</th>\n",
       "      <th>Late Detraining Customers</th>\n",
       "      <th>Avg Min Late (Lt CS)</th>\n",
       "      <th>Avg Min Late (Lt C)</th>\n",
       "    </tr>\n",
       "  </thead>\n",
       "  <tbody>\n",
       "    <tr>\n",
       "      <th>0</th>\n",
       "      <td>2024</td>\n",
       "      <td>3</td>\n",
       "      <td>Long Distance</td>\n",
       "      <td>Auto Train</td>\n",
       "      <td>Auto Train</td>\n",
       "      <td>52</td>\n",
       "      <td>LOR</td>\n",
       "      <td>Lorton (Auto Train), Virginia</td>\n",
       "      <td>42445</td>\n",
       "      <td>23316</td>\n",
       "      <td>95.0</td>\n",
       "      <td>NaN</td>\n",
       "    </tr>\n",
       "    <tr>\n",
       "      <th>1</th>\n",
       "      <td>2024</td>\n",
       "      <td>3</td>\n",
       "      <td>Long Distance</td>\n",
       "      <td>Auto Train</td>\n",
       "      <td>Auto Train</td>\n",
       "      <td>53</td>\n",
       "      <td>SFA</td>\n",
       "      <td>Sanford (Auto Train), Florida</td>\n",
       "      <td>28034</td>\n",
       "      <td>18439</td>\n",
       "      <td>91.0</td>\n",
       "      <td>NaN</td>\n",
       "    </tr>\n",
       "    <tr>\n",
       "      <th>2</th>\n",
       "      <td>2024</td>\n",
       "      <td>3</td>\n",
       "      <td>Long Distance</td>\n",
       "      <td>California Zephyr</td>\n",
       "      <td>California Zephyr</td>\n",
       "      <td>5</td>\n",
       "      <td>BRL</td>\n",
       "      <td>Burlington, Iowa</td>\n",
       "      <td>557</td>\n",
       "      <td>223</td>\n",
       "      <td>54.0</td>\n",
       "      <td>NaN</td>\n",
       "    </tr>\n",
       "    <tr>\n",
       "      <th>3</th>\n",
       "      <td>2024</td>\n",
       "      <td>3</td>\n",
       "      <td>Long Distance</td>\n",
       "      <td>California Zephyr</td>\n",
       "      <td>California Zephyr</td>\n",
       "      <td>5</td>\n",
       "      <td>COX</td>\n",
       "      <td>Colfax, California</td>\n",
       "      <td>508</td>\n",
       "      <td>326</td>\n",
       "      <td>99.0</td>\n",
       "      <td>NaN</td>\n",
       "    </tr>\n",
       "    <tr>\n",
       "      <th>4</th>\n",
       "      <td>2024</td>\n",
       "      <td>3</td>\n",
       "      <td>Long Distance</td>\n",
       "      <td>California Zephyr</td>\n",
       "      <td>California Zephyr</td>\n",
       "      <td>5</td>\n",
       "      <td>CRN</td>\n",
       "      <td>Creston, Iowa</td>\n",
       "      <td>205</td>\n",
       "      <td>144</td>\n",
       "      <td>67.0</td>\n",
       "      <td>NaN</td>\n",
       "    </tr>\n",
       "  </tbody>\n",
       "</table>\n",
       "</div>"
      ],
      "text/plain": [
       "   Fiscal Year  Fiscal Quarter   Service Line            Service  \\\n",
       "0         2024               3  Long Distance         Auto Train   \n",
       "1         2024               3  Long Distance         Auto Train   \n",
       "2         2024               3  Long Distance  California Zephyr   \n",
       "3         2024               3  Long Distance  California Zephyr   \n",
       "4         2024               3  Long Distance  California Zephyr   \n",
       "\n",
       "         Sub Service  Train Number Arrival Station Code  \\\n",
       "0         Auto Train            52                  LOR   \n",
       "1         Auto Train            53                  SFA   \n",
       "2  California Zephyr             5                  BRL   \n",
       "3  California Zephyr             5                  COX   \n",
       "4  California Zephyr             5                  CRN   \n",
       "\n",
       "            Arrival Station Name  Total Detraining Customers  \\\n",
       "0  Lorton (Auto Train), Virginia                       42445   \n",
       "1  Sanford (Auto Train), Florida                       28034   \n",
       "2               Burlington, Iowa                         557   \n",
       "3             Colfax, California                         508   \n",
       "4                  Creston, Iowa                         205   \n",
       "\n",
       "   Late Detraining Customers  Avg Min Late (Lt CS)  Avg Min Late (Lt C)  \n",
       "0                      23316                  95.0                  NaN  \n",
       "1                      18439                  91.0                  NaN  \n",
       "2                        223                  54.0                  NaN  \n",
       "3                        326                  99.0                  NaN  \n",
       "4                        144                  67.0                  NaN  "
      ]
     },
     "execution_count": 7,
     "metadata": {},
     "output_type": "execute_result"
    }
   ],
   "source": [
    "stations.head()"
   ]
  },
  {
   "cell_type": "markdown",
   "metadata": {
    "deletable": false,
    "editable": false,
    "nbgrader": {
     "cell_type": "markdown",
     "checksum": "ed181d159e12872b272b0b7b9372991f",
     "grade": false,
     "grade_id": "cell-de4c0bf717e7bae1",
     "locked": true,
     "schema_version": 3,
     "solution": false,
     "task": false
    }
   },
   "source": [
    "## 2.0 Normalize strings\n",
    "\n",
    "Trim each string value of leading/trailing spaces. Also search and remove unnecessary spaces in each string value based on the regular expression `re.Pattern` object. Call the function `frm.normalize_dataframe_strings()` to perform this operation.\n",
    "\n",
    "### 2.1 Locate suspect strings\n",
    "\n",
    "As is illustrated below, the regex pattern to employ is `\"\\s{2,}\"`."
   ]
  },
  {
   "cell_type": "code",
   "execution_count": 7,
   "metadata": {},
   "outputs": [
    {
     "data": {
      "text/plain": [
       "Service Line             0\n",
       "Service                  0\n",
       "Sub Service              0\n",
       "Arrival Station Code     0\n",
       "Arrival Station Name    22\n",
       "dtype: int64"
      ]
     },
     "execution_count": 7,
     "metadata": {},
     "output_type": "execute_result"
    }
   ],
   "source": [
    "# Locate extra spaces in all string columns\n",
    "extra_spaces = stations.select_dtypes(include=\"object\").apply(\n",
    "    lambda x: x.str.contains(r\"\\s{2,}\").sum()\n",
    ")\n",
    "extra_spaces"
   ]
  },
  {
   "cell_type": "markdown",
   "metadata": {
    "deletable": false,
    "editable": false,
    "nbgrader": {
     "cell_type": "markdown",
     "checksum": "de1f88915393195f99cbb1249542735d",
     "grade": false,
     "grade_id": "cell-044f7448ecf86042",
     "locked": true,
     "schema_version": 3,
     "solution": false,
     "task": false
    }
   },
   "source": [
    "### 2.2 Clean strings [1 pt]"
   ]
  },
  {
   "cell_type": "code",
   "execution_count": 8,
   "metadata": {
    "deletable": false,
    "nbgrader": {
     "cell_type": "code",
     "checksum": "7a2fa863496d168e0536491175f7af74",
     "grade": false,
     "grade_id": "cell-bde2a270796a0bd8",
     "locked": false,
     "schema_version": 3,
     "solution": true,
     "task": false
    }
   },
   "outputs": [],
   "source": [
    "stations[\"Service Line\"] = stations[\"Service Line\"].str.strip()\n",
    "stations[\"Service\"] = stations[\"Service\"].str.strip()\n",
    "stations[\"Sub Service\"] = stations[\"Sub Service\"].str.strip()\n",
    "stations[\"Arrival Station Code\"] = stations[\"Arrival Station Code\"].str.strip()\n",
    "stations[\"Arrival Station Name\"] = stations[\"Arrival Station Name\"].str.strip()\n",
    "stations = frm.normalize_dataframe_strings(frame=stations, pattern=\"\\s{2,}\")"
   ]
  },
  {
   "cell_type": "code",
   "execution_count": 10,
   "metadata": {
    "deletable": false,
    "editable": false,
    "nbgrader": {
     "cell_type": "code",
     "checksum": "191bfa1eddffec18d43ed010b18bb5a3",
     "grade": true,
     "grade_id": "cell-b78883418ad90368",
     "locked": true,
     "points": 1,
     "schema_version": 3,
     "solution": false,
     "task": false
    }
   },
   "outputs": [],
   "source": [
    "#hidden tests are within this cell"
   ]
  },
  {
   "cell_type": "markdown",
   "metadata": {
    "deletable": false,
    "editable": false,
    "nbgrader": {
     "cell_type": "markdown",
     "checksum": "a3794f3987a4eefdf19bf73ea09c71f7",
     "grade": false,
     "grade_id": "cell-003ed0984cfef631",
     "locked": true,
     "schema_version": 3,
     "solution": false,
     "task": false
    }
   },
   "source": [
    "## 3.0 Manipulate data\n",
    "\n",
    "### 3.1 Why two \"average min late\" columns?\n",
    "\n",
    "The dataset contains two columns that appear to record the same information: average minutes late. The columns are: \"Avg Min Late (Lt CS)\" and \"Avg Min Late (Lt C)\". The \"Lt CS\" column is well-stocked with non-`NaN` values; in contrast \"Lt C\" column contains only `4668` numeric values. Perhaps this data can be moved to the \"Avg Min Late (Lt CS)\". Investigate."
   ]
  },
  {
   "cell_type": "markdown",
   "metadata": {
    "deletable": false,
    "editable": false,
    "nbgrader": {
     "cell_type": "markdown",
     "checksum": "bb115e5e5cc79549eeccde64cbb7c488",
     "grade": false,
     "grade_id": "cell-f1eb77d9c2b4bb4c",
     "locked": true,
     "schema_version": 3,
     "solution": false,
     "task": false
    }
   },
   "source": [
    "#### 3.1.1 Compare \"Avg Min Late (Lt CS)\" and \"Avg Min Late (Lt C)\" values\n",
    "\n",
    "First, return a `DataFrame` filtered on \"Avg Min Late (Lt C)\" non-NA values."
   ]
  },
  {
   "cell_type": "code",
   "execution_count": 9,
   "metadata": {},
   "outputs": [
    {
     "data": {
      "text/plain": [
       "(4668, 12)"
      ]
     },
     "execution_count": 9,
     "metadata": {},
     "output_type": "execute_result"
    }
   ],
   "source": [
    "mask = stations[COLS[\"avg_mm_late_c\"]].notna()\n",
    "lt_c_notna = stations[mask].reset_index(drop=True)\n",
    "lt_c_notna.shape"
   ]
  },
  {
   "cell_type": "markdown",
   "metadata": {
    "deletable": false,
    "editable": false,
    "nbgrader": {
     "cell_type": "markdown",
     "checksum": "2e6fbbb1a09bd87d2caef38e32c0c0bd",
     "grade": false,
     "grade_id": "cell-a6f4838cfbd9b926",
     "locked": true,
     "schema_version": 3,
     "solution": false,
     "task": false
    }
   },
   "source": [
    "Check if `lt_c_notna` numeric values can be found throughout the dataset or are confined to a specific years and/or quarters."
   ]
  },
  {
   "cell_type": "code",
   "execution_count": 10,
   "metadata": {},
   "outputs": [
    {
     "data": {
      "text/html": [
       "<div>\n",
       "<style scoped>\n",
       "    .dataframe tbody tr th:only-of-type {\n",
       "        vertical-align: middle;\n",
       "    }\n",
       "\n",
       "    .dataframe tbody tr th {\n",
       "        vertical-align: top;\n",
       "    }\n",
       "\n",
       "    .dataframe thead th {\n",
       "        text-align: right;\n",
       "    }\n",
       "</style>\n",
       "<table border=\"1\" class=\"dataframe\">\n",
       "  <thead>\n",
       "    <tr style=\"text-align: right;\">\n",
       "      <th></th>\n",
       "      <th>Fiscal Year</th>\n",
       "      <th>Fiscal Quarter</th>\n",
       "    </tr>\n",
       "  </thead>\n",
       "  <tbody>\n",
       "    <tr>\n",
       "      <th>0</th>\n",
       "      <td>2022</td>\n",
       "      <td>1</td>\n",
       "    </tr>\n",
       "  </tbody>\n",
       "</table>\n",
       "</div>"
      ],
      "text/plain": [
       "   Fiscal Year  Fiscal Quarter\n",
       "0         2022               1"
      ]
     },
     "execution_count": 10,
     "metadata": {},
     "output_type": "execute_result"
    }
   ],
   "source": [
    "years_qtrs = lt_c_notna[[COLS[\"year\"], COLS[\"quarter\"]]].drop_duplicates().reset_index(drop=True)\n",
    "years_qtrs"
   ]
  },
  {
   "cell_type": "markdown",
   "metadata": {
    "deletable": false,
    "editable": false,
    "nbgrader": {
     "cell_type": "markdown",
     "checksum": "528983dce52a50991d549d37225dd1d5",
     "grade": false,
     "grade_id": "cell-df92e60d8b31e75a",
     "locked": true,
     "schema_version": 3,
     "solution": false,
     "task": false
    }
   },
   "source": [
    "Next, create a second `DataFrame` filtered on \"Avg Min Late (Lt C)\" non-NA values _and_ \"Avg Min Late (Lt CS)\" NA values."
   ]
  },
  {
   "cell_type": "code",
   "execution_count": 11,
   "metadata": {},
   "outputs": [
    {
     "data": {
      "text/plain": [
       "(4668, 12)"
      ]
     },
     "execution_count": 11,
     "metadata": {},
     "output_type": "execute_result"
    }
   ],
   "source": [
    "mask = (stations[COLS[\"avg_mm_late_c\"]].notna()) & (stations[COLS[\"avg_mm_late_cs\"]].isna())\n",
    "lt_c_notna_lt_cs_isna = stations[mask].reset_index(drop=True)\n",
    "lt_c_notna_lt_cs_isna.shape"
   ]
  },
  {
   "cell_type": "markdown",
   "metadata": {
    "deletable": false,
    "editable": false,
    "nbgrader": {
     "cell_type": "markdown",
     "checksum": "c7add9c4f7366406a06acabb3221e591",
     "grade": false,
     "grade_id": "cell-9d2d786ba47dc522",
     "locked": true,
     "schema_version": 3,
     "solution": false,
     "task": false
    }
   },
   "source": [
    "Check the two `DataFrames` for equality. If they are equal, the non-NA \"Avg Min Late (Lt C)\" values can be copied to the \"Avg Min Late (Lt CS)\" column."
   ]
  },
  {
   "cell_type": "code",
   "execution_count": 12,
   "metadata": {},
   "outputs": [],
   "source": [
    "assert lt_c_notna.equals(lt_c_notna_lt_cs_isna)"
   ]
  },
  {
   "cell_type": "markdown",
   "metadata": {
    "deletable": false,
    "editable": false,
    "nbgrader": {
     "cell_type": "markdown",
     "checksum": "a667fb081cea798a010e980916b78f97",
     "grade": false,
     "grade_id": "cell-0046479f6a28c8c4",
     "locked": true,
     "schema_version": 3,
     "solution": false,
     "task": false
    }
   },
   "source": [
    "#### 3.1.2 Update the \"Avg Min Late (Lt CS)\" column with non-NA \"Avg Min Late (Lt C)\" values\n",
    "\n",
    "The values are safe to transfer."
   ]
  },
  {
   "cell_type": "code",
   "execution_count": 13,
   "metadata": {},
   "outputs": [
    {
     "data": {
      "text/html": [
       "<div>\n",
       "<style scoped>\n",
       "    .dataframe tbody tr th:only-of-type {\n",
       "        vertical-align: middle;\n",
       "    }\n",
       "\n",
       "    .dataframe tbody tr th {\n",
       "        vertical-align: top;\n",
       "    }\n",
       "\n",
       "    .dataframe thead th {\n",
       "        text-align: right;\n",
       "    }\n",
       "</style>\n",
       "<table border=\"1\" class=\"dataframe\">\n",
       "  <thead>\n",
       "    <tr style=\"text-align: right;\">\n",
       "      <th></th>\n",
       "      <th>Fiscal Year</th>\n",
       "      <th>Fiscal Quarter</th>\n",
       "      <th>Service Line</th>\n",
       "      <th>Service</th>\n",
       "      <th>Sub Service</th>\n",
       "      <th>Train Number</th>\n",
       "      <th>Arrival Station Code</th>\n",
       "      <th>Arrival Station Name</th>\n",
       "      <th>Total Detraining Customers</th>\n",
       "      <th>Late Detraining Customers</th>\n",
       "      <th>Avg Min Late (Lt CS)</th>\n",
       "      <th>Avg Min Late (Lt C)</th>\n",
       "    </tr>\n",
       "  </thead>\n",
       "  <tbody>\n",
       "    <tr>\n",
       "      <th>58896</th>\n",
       "      <td>2022</td>\n",
       "      <td>1</td>\n",
       "      <td>Long Distance</td>\n",
       "      <td>Auto Train</td>\n",
       "      <td>Auto Train</td>\n",
       "      <td>52</td>\n",
       "      <td>LOR</td>\n",
       "      <td>Lorton (Auto Train), Virginia</td>\n",
       "      <td>26631</td>\n",
       "      <td>18819</td>\n",
       "      <td>145.0</td>\n",
       "      <td>145.0</td>\n",
       "    </tr>\n",
       "    <tr>\n",
       "      <th>58897</th>\n",
       "      <td>2022</td>\n",
       "      <td>1</td>\n",
       "      <td>Long Distance</td>\n",
       "      <td>Auto Train</td>\n",
       "      <td>Auto Train</td>\n",
       "      <td>53</td>\n",
       "      <td>SFA</td>\n",
       "      <td>Sanford (Auto Train), Florida</td>\n",
       "      <td>39969</td>\n",
       "      <td>31652</td>\n",
       "      <td>176.0</td>\n",
       "      <td>176.0</td>\n",
       "    </tr>\n",
       "    <tr>\n",
       "      <th>58898</th>\n",
       "      <td>2022</td>\n",
       "      <td>1</td>\n",
       "      <td>Long Distance</td>\n",
       "      <td>California Zephyr</td>\n",
       "      <td>California Zephyr</td>\n",
       "      <td>5</td>\n",
       "      <td>BRL</td>\n",
       "      <td>Burlington, Iowa</td>\n",
       "      <td>542</td>\n",
       "      <td>170</td>\n",
       "      <td>36.0</td>\n",
       "      <td>36.0</td>\n",
       "    </tr>\n",
       "  </tbody>\n",
       "</table>\n",
       "</div>"
      ],
      "text/plain": [
       "       Fiscal Year  Fiscal Quarter   Service Line            Service  \\\n",
       "58896         2022               1  Long Distance         Auto Train   \n",
       "58897         2022               1  Long Distance         Auto Train   \n",
       "58898         2022               1  Long Distance  California Zephyr   \n",
       "\n",
       "             Sub Service  Train Number Arrival Station Code  \\\n",
       "58896         Auto Train            52                  LOR   \n",
       "58897         Auto Train            53                  SFA   \n",
       "58898  California Zephyr             5                  BRL   \n",
       "\n",
       "                Arrival Station Name  Total Detraining Customers  \\\n",
       "58896  Lorton (Auto Train), Virginia                       26631   \n",
       "58897  Sanford (Auto Train), Florida                       39969   \n",
       "58898               Burlington, Iowa                         542   \n",
       "\n",
       "       Late Detraining Customers  Avg Min Late (Lt CS)  Avg Min Late (Lt C)  \n",
       "58896                      18819                 145.0                145.0  \n",
       "58897                      31652                 176.0                176.0  \n",
       "58898                        170                  36.0                 36.0  "
      ]
     },
     "execution_count": 13,
     "metadata": {},
     "output_type": "execute_result"
    }
   ],
   "source": [
    "mask = stations[COLS[\"avg_mm_late_c\"]].notna()\n",
    "stations.loc[mask, COLS[\"avg_mm_late_cs\"]] = stations.loc[mask, COLS[\"avg_mm_late_c\"]]\n",
    "stations[mask].head(3)"
   ]
  },
  {
   "cell_type": "markdown",
   "metadata": {
    "deletable": false,
    "editable": false,
    "nbgrader": {
     "cell_type": "markdown",
     "checksum": "ae503aedd966795c2f079bfcf5b900c6",
     "grade": false,
     "grade_id": "cell-e72c6595c117fe66",
     "locked": true,
     "schema_version": 3,
     "solution": false,
     "task": false
    }
   },
   "source": [
    "#### 3.1.3 Drop the \"Avg Min Late (Lt C)\" column [1 pt]\n",
    "\n",
    "The column is now redundant."
   ]
  },
  {
   "cell_type": "code",
   "execution_count": 16,
   "metadata": {
    "deletable": false,
    "nbgrader": {
     "cell_type": "code",
     "checksum": "6d570f5d8df7847f413a99cf6b5458ed",
     "grade": false,
     "grade_id": "cell-98c0842d69ad1e86",
     "locked": false,
     "schema_version": 3,
     "solution": true,
     "task": false
    }
   },
   "outputs": [],
   "source": [
    "stations.drop(columns=[\"Avg Min Late (Lt C)\"], inplace=True)"
   ]
  },
  {
   "cell_type": "code",
   "execution_count": 17,
   "metadata": {},
   "outputs": [
    {
     "data": {
      "text/plain": [
       "Index(['Fiscal Year', 'Fiscal Quarter', 'Service Line', 'Service',\n",
       "       'Sub Service', 'Train Number', 'Arrival Station Code',\n",
       "       'Arrival Station Name', 'Total Detraining Customers',\n",
       "       'Late Detraining Customers', 'Avg Min Late (Lt CS)'],\n",
       "      dtype='object')"
      ]
     },
     "execution_count": 17,
     "metadata": {},
     "output_type": "execute_result"
    }
   ],
   "source": [
    "stations.columns\n",
    "# ['Fiscal Year', 'Fiscal Quarter', 'Service Line', 'Service', 'Sub Service', \n",
    "#  'Train Number', 'Arrival Station Code', 'Arrival Station Name', \n",
    "#  'Total Detraining Customers', 'Late Detraining Customers', 'Avg Min Late (Lt CS)']"
   ]
  },
  {
   "cell_type": "code",
   "execution_count": 17,
   "metadata": {
    "deletable": false,
    "editable": false,
    "nbgrader": {
     "cell_type": "code",
     "checksum": "61439fa8d2dd7e28a522ecf94d86f23e",
     "grade": true,
     "grade_id": "cell-1a36b5fc3209aa9f",
     "locked": true,
     "points": 1,
     "schema_version": 3,
     "solution": false,
     "task": false
    }
   },
   "outputs": [],
   "source": [
    "#hidden tests are within this cell"
   ]
  },
  {
   "cell_type": "markdown",
   "metadata": {
    "deletable": false,
    "editable": false,
    "nbgrader": {
     "cell_type": "markdown",
     "checksum": "db3a5fad4f9aba37c36bbc36e455128e",
     "grade": false,
     "grade_id": "cell-6d6bed3dd79babb1",
     "locked": true,
     "schema_version": 3,
     "solution": false,
     "task": false
    }
   },
   "source": [
    "### 3.2 Split \"Arrival Station Name\" string into multiple columns [1 pt]\n",
    "\n",
    "The \"Arrival Station Name\" column is overloaded with location information. The station name, state,\n",
    "and country are usually resident in the string.\n",
    "\n",
    "Split the column values and unpack the substrings into three new columns named \"Arrival Station\",\n",
    "\"State\", and \"Country\". Use the available `COLS` constants to define the new column names."
   ]
  },
  {
   "cell_type": "code",
   "execution_count": 19,
   "metadata": {
    "deletable": false,
    "nbgrader": {
     "cell_type": "code",
     "checksum": "43ee1b4478c09735760d73b6ddb4b100",
     "grade": false,
     "grade_id": "cell-00908139fbe5b37a",
     "locked": false,
     "schema_version": 3,
     "solution": true,
     "task": false
    }
   },
   "outputs": [],
   "source": [
    "temp = stations[\"Arrival Station Name\"].str.split(pat=\",\", expand=True)\n",
    "temp = temp.rename(columns={0: \"Arrival Station\", 1: \"State\", 2: \"Country\"})\n",
    "stations = pd.concat([stations, temp], axis=1)\n",
    "stations[\"Arrival Station\"] = stations[\"Arrival Station\"].str.strip()\n",
    "stations[\"State\"] = stations[\"State\"].str.strip()\n",
    "stations[\"Country\"] = stations[\"Country\"].str.strip()\n",
    "stations = stations[['Fiscal Year', 'Fiscal Quarter', 'Service Line', 'Service', 'Sub Service', \n",
    "                     'Train Number', 'Arrival Station Code', 'Arrival Station Name', \n",
    "                     'Total Detraining Customers', 'Late Detraining Customers', \n",
    "                     'Avg Min Late (Lt CS)', 'Arrival Station', 'State', 'Country']]"
   ]
  },
  {
   "cell_type": "code",
   "execution_count": null,
   "metadata": {
    "deletable": false,
    "editable": false,
    "nbgrader": {
     "cell_type": "code",
     "checksum": "7f722aabd5c8e2d103946fc9a1989a43",
     "grade": true,
     "grade_id": "cell-3819a06a68fe705a",
     "locked": true,
     "points": 1,
     "schema_version": 3,
     "solution": false,
     "task": false
    }
   },
   "outputs": [],
   "source": [
    "#hidden tests are within this cell"
   ]
  },
  {
   "cell_type": "markdown",
   "metadata": {
    "deletable": false,
    "editable": false,
    "nbgrader": {
     "cell_type": "markdown",
     "checksum": "69c3c73b2d841aecbd725ad9e92a0217",
     "grade": false,
     "grade_id": "cell-ee5255810d922c96",
     "locked": true,
     "schema_version": 3,
     "solution": false,
     "task": false
    }
   },
   "source": [
    "#### 3.2.1 Review \"State\" column values\n",
    "\n",
    "Compare values to jurisdictions contained in `states_provinces.json` file. The file contains a list of US states, the District of Columbia, and Canadian provinces. Update values as needed."
   ]
  },
  {
   "cell_type": "code",
   "execution_count": 20,
   "metadata": {},
   "outputs": [
    {
     "data": {
      "text/plain": [
       "array(['VT', None, 'CA'], dtype=object)"
      ]
     },
     "execution_count": 20,
     "metadata": {},
     "output_type": "execute_result"
    }
   ],
   "source": [
    "with open(data_processed_path.joinpath(\"states_provinces.json\"), \"r\") as file:\n",
    "    states_provinces = json.load(file)\n",
    "\n",
    "# Combine US and Canadian jurisdictions\n",
    "jurisdictions = states_provinces[\"United States\"] + states_provinces[\"Canada\"]\n",
    "\n",
    "# Check for missing and/or incorrect values\n",
    "mask = ~stations[COLS[\"state\"]].isin(jurisdictions)  # negation\n",
    "bad_values = stations[mask].loc[:, COLS[\"state\"]].unique()\n",
    "bad_values"
   ]
  },
  {
   "cell_type": "markdown",
   "metadata": {
    "deletable": false,
    "editable": false,
    "nbgrader": {
     "cell_type": "markdown",
     "checksum": "82c60803e0888c67dc7f0462e2d0faa3",
     "grade": false,
     "grade_id": "cell-83e69533bb1d6903",
     "locked": true,
     "schema_version": 3,
     "solution": false,
     "task": false
    }
   },
   "source": [
    "#### 3.2.2 Update \"State\" column CA and VT values [1 pt]\n",
    "\n",
    "Update the \"State\" column, replacing the US state codes \"CA\" and \"VT\" with \"California\" and \"Vermont\", respectively."
   ]
  },
  {
   "cell_type": "code",
   "execution_count": 21,
   "metadata": {
    "deletable": false,
    "nbgrader": {
     "cell_type": "code",
     "checksum": "7d3c5585f38c156eebd653dbae1cbb3d",
     "grade": false,
     "grade_id": "cell-894213cdeadc58c0",
     "locked": false,
     "schema_version": 3,
     "solution": true,
     "task": false
    }
   },
   "outputs": [],
   "source": [
    "# YOUR CODE HERE\n",
    "stations[\"State\"] = stations[\"State\"].replace(to_replace=\"CA\", value=\"California\")\n",
    "stations[\"State\"] = stations[\"State\"].replace(to_replace=\"VT\", value=\"Vermont\")"
   ]
  },
  {
   "cell_type": "code",
   "execution_count": null,
   "metadata": {
    "deletable": false,
    "editable": false,
    "nbgrader": {
     "cell_type": "code",
     "checksum": "cbd68aeb1ce4ca22b87ecbd620e00c73",
     "grade": true,
     "grade_id": "cell-ba49dc02b5ecc466",
     "locked": true,
     "points": 1,
     "schema_version": 3,
     "solution": false,
     "task": false
    }
   },
   "outputs": [],
   "source": [
    "#hidden tests are within this cell"
   ]
  },
  {
   "cell_type": "markdown",
   "metadata": {
    "deletable": false,
    "editable": false,
    "nbgrader": {
     "cell_type": "markdown",
     "checksum": "78aa41e73e83ab4ee796c0bcb4677506",
     "grade": false,
     "grade_id": "cell-43e3b8d2b4cf0117",
     "locked": true,
     "schema_version": 3,
     "solution": false,
     "task": false
    }
   },
   "source": [
    "#### 3.2.3 Update \"State\" column `NaN` values"
   ]
  },
  {
   "cell_type": "code",
   "execution_count": 22,
   "metadata": {},
   "outputs": [
    {
     "data": {
      "text/html": [
       "<div>\n",
       "<style scoped>\n",
       "    .dataframe tbody tr th:only-of-type {\n",
       "        vertical-align: middle;\n",
       "    }\n",
       "\n",
       "    .dataframe tbody tr th {\n",
       "        vertical-align: top;\n",
       "    }\n",
       "\n",
       "    .dataframe thead th {\n",
       "        text-align: right;\n",
       "    }\n",
       "</style>\n",
       "<table border=\"1\" class=\"dataframe\">\n",
       "  <thead>\n",
       "    <tr style=\"text-align: right;\">\n",
       "      <th></th>\n",
       "      <th>Arrival Station Code</th>\n",
       "      <th>Arrival Station</th>\n",
       "      <th>State</th>\n",
       "    </tr>\n",
       "  </thead>\n",
       "  <tbody>\n",
       "    <tr>\n",
       "      <th>0</th>\n",
       "      <td>CBN</td>\n",
       "      <td>Canadian Border New York</td>\n",
       "      <td>None</td>\n",
       "    </tr>\n",
       "    <tr>\n",
       "      <th>1</th>\n",
       "      <td>NRG</td>\n",
       "      <td>Northridge Station</td>\n",
       "      <td>None</td>\n",
       "    </tr>\n",
       "  </tbody>\n",
       "</table>\n",
       "</div>"
      ],
      "text/plain": [
       "  Arrival Station Code           Arrival Station State\n",
       "0                  CBN  Canadian Border New York  None\n",
       "1                  NRG        Northridge Station  None"
      ]
     },
     "execution_count": 22,
     "metadata": {},
     "output_type": "execute_result"
    }
   ],
   "source": [
    "# Check \"States\" column for missing values\n",
    "mask = stations[COLS[\"state\"]].isna()\n",
    "bad_values = (\n",
    "    stations[mask]\n",
    "    .loc[:, [COLS[\"station_code\"], COLS[\"station\"], COLS[\"state\"]]]\n",
    "    .drop_duplicates()\n",
    "    .reset_index(drop=True)\n",
    ")\n",
    "bad_values"
   ]
  },
  {
   "cell_type": "markdown",
   "metadata": {
    "deletable": false,
    "editable": false,
    "nbgrader": {
     "cell_type": "markdown",
     "checksum": "aeb7c20047b44e6ccdc70728dfcfcc9e",
     "grade": false,
     "grade_id": "cell-45763975a1b7b88b",
     "locked": true,
     "schema_version": 3,
     "solution": false,
     "task": false
    },
    "vscode": {
     "languageId": "markdown"
    }
   },
   "source": [
    "The `NaN` values are associated with the following stations:\n",
    "\n",
    "* CBN: [Canadian Border (Niagara Falls, NY)](https://www.amtrak.com/stations/cbn)\n",
    "* NRG: [Northridge, CA](https://www.amtrak.com/stations/nrg)\n",
    "\n",
    "Update the \"State\" column values for these stations."
   ]
  },
  {
   "cell_type": "code",
   "execution_count": 23,
   "metadata": {},
   "outputs": [],
   "source": [
    "# Update missing States and Country valuee\n",
    "mapper = {\"CBN\": \"New York\", \"NRG\": \"California\"}\n",
    "stations[COLS[\"state\"]] = stations[COLS[\"station_code\"]].map(mapper).fillna(stations[\"State\"])"
   ]
  },
  {
   "cell_type": "markdown",
   "metadata": {
    "deletable": false,
    "editable": false,
    "nbgrader": {
     "cell_type": "markdown",
     "checksum": "a89d7be89a390f158cca8e7873c48aaf",
     "grade": false,
     "grade_id": "cell-c5c73d5b89764160",
     "locked": true,
     "schema_version": 3,
     "solution": false,
     "task": false
    }
   },
   "source": [
    "Sample to confirm that the \"State\" column values have been updated."
   ]
  },
  {
   "cell_type": "code",
   "execution_count": 24,
   "metadata": {},
   "outputs": [
    {
     "data": {
      "text/html": [
       "<div>\n",
       "<style scoped>\n",
       "    .dataframe tbody tr th:only-of-type {\n",
       "        vertical-align: middle;\n",
       "    }\n",
       "\n",
       "    .dataframe tbody tr th {\n",
       "        vertical-align: top;\n",
       "    }\n",
       "\n",
       "    .dataframe thead th {\n",
       "        text-align: right;\n",
       "    }\n",
       "</style>\n",
       "<table border=\"1\" class=\"dataframe\">\n",
       "  <thead>\n",
       "    <tr style=\"text-align: right;\">\n",
       "      <th></th>\n",
       "      <th>Fiscal Year</th>\n",
       "      <th>Fiscal Quarter</th>\n",
       "      <th>Service Line</th>\n",
       "      <th>Service</th>\n",
       "      <th>Sub Service</th>\n",
       "      <th>Train Number</th>\n",
       "      <th>Arrival Station Code</th>\n",
       "      <th>Arrival Station Name</th>\n",
       "      <th>Total Detraining Customers</th>\n",
       "      <th>Late Detraining Customers</th>\n",
       "      <th>Avg Min Late (Lt CS)</th>\n",
       "      <th>Arrival Station</th>\n",
       "      <th>State</th>\n",
       "      <th>Country</th>\n",
       "    </tr>\n",
       "  </thead>\n",
       "  <tbody>\n",
       "    <tr>\n",
       "      <th>22926</th>\n",
       "      <td>2023</td>\n",
       "      <td>4</td>\n",
       "      <td>State Supported</td>\n",
       "      <td>Empire</td>\n",
       "      <td>Maple Leaf</td>\n",
       "      <td>63</td>\n",
       "      <td>CBN</td>\n",
       "      <td>Canadian Border New York</td>\n",
       "      <td>9314</td>\n",
       "      <td>1363</td>\n",
       "      <td>72.0</td>\n",
       "      <td>Canadian Border New York</td>\n",
       "      <td>New York</td>\n",
       "      <td>None</td>\n",
       "    </tr>\n",
       "    <tr>\n",
       "      <th>24172</th>\n",
       "      <td>2023</td>\n",
       "      <td>4</td>\n",
       "      <td>State Supported</td>\n",
       "      <td>Pacific Surfliner</td>\n",
       "      <td>Pacific Surfliner</td>\n",
       "      <td>761</td>\n",
       "      <td>NRG</td>\n",
       "      <td>Northridge Station</td>\n",
       "      <td>993</td>\n",
       "      <td>189</td>\n",
       "      <td>33.0</td>\n",
       "      <td>Northridge Station</td>\n",
       "      <td>California</td>\n",
       "      <td>None</td>\n",
       "    </tr>\n",
       "    <tr>\n",
       "      <th>30496</th>\n",
       "      <td>2023</td>\n",
       "      <td>3</td>\n",
       "      <td>State Supported</td>\n",
       "      <td>Pacific Surfliner</td>\n",
       "      <td>Pacific Surfliner</td>\n",
       "      <td>784</td>\n",
       "      <td>NRG</td>\n",
       "      <td>Northridge Station</td>\n",
       "      <td>255</td>\n",
       "      <td>17</td>\n",
       "      <td>42.0</td>\n",
       "      <td>Northridge Station</td>\n",
       "      <td>California</td>\n",
       "      <td>None</td>\n",
       "    </tr>\n",
       "    <tr>\n",
       "      <th>29101</th>\n",
       "      <td>2023</td>\n",
       "      <td>3</td>\n",
       "      <td>State Supported</td>\n",
       "      <td>Empire</td>\n",
       "      <td>Maple Leaf</td>\n",
       "      <td>63</td>\n",
       "      <td>CBN</td>\n",
       "      <td>Canadian Border New York</td>\n",
       "      <td>6071</td>\n",
       "      <td>861</td>\n",
       "      <td>87.0</td>\n",
       "      <td>Canadian Border New York</td>\n",
       "      <td>New York</td>\n",
       "      <td>None</td>\n",
       "    </tr>\n",
       "    <tr>\n",
       "      <th>30473</th>\n",
       "      <td>2023</td>\n",
       "      <td>3</td>\n",
       "      <td>State Supported</td>\n",
       "      <td>Pacific Surfliner</td>\n",
       "      <td>Pacific Surfliner</td>\n",
       "      <td>777</td>\n",
       "      <td>NRG</td>\n",
       "      <td>Northridge Station</td>\n",
       "      <td>607</td>\n",
       "      <td>108</td>\n",
       "      <td>53.0</td>\n",
       "      <td>Northridge Station</td>\n",
       "      <td>California</td>\n",
       "      <td>None</td>\n",
       "    </tr>\n",
       "    <tr>\n",
       "      <th>46339</th>\n",
       "      <td>2022</td>\n",
       "      <td>4</td>\n",
       "      <td>State Supported</td>\n",
       "      <td>Empire</td>\n",
       "      <td>Maple Leaf</td>\n",
       "      <td>63</td>\n",
       "      <td>CBN</td>\n",
       "      <td>Canadian Border New York</td>\n",
       "      <td>11</td>\n",
       "      <td>0</td>\n",
       "      <td>NaN</td>\n",
       "      <td>Canadian Border New York</td>\n",
       "      <td>New York</td>\n",
       "      <td>None</td>\n",
       "    </tr>\n",
       "    <tr>\n",
       "      <th>4319</th>\n",
       "      <td>2024</td>\n",
       "      <td>3</td>\n",
       "      <td>State Supported</td>\n",
       "      <td>Empire</td>\n",
       "      <td>Maple Leaf</td>\n",
       "      <td>63</td>\n",
       "      <td>CBN</td>\n",
       "      <td>Canadian Border New York</td>\n",
       "      <td>5786</td>\n",
       "      <td>512</td>\n",
       "      <td>85.0</td>\n",
       "      <td>Canadian Border New York</td>\n",
       "      <td>New York</td>\n",
       "      <td>None</td>\n",
       "    </tr>\n",
       "  </tbody>\n",
       "</table>\n",
       "</div>"
      ],
      "text/plain": [
       "       Fiscal Year  Fiscal Quarter     Service Line            Service  \\\n",
       "22926         2023               4  State Supported             Empire   \n",
       "24172         2023               4  State Supported  Pacific Surfliner   \n",
       "30496         2023               3  State Supported  Pacific Surfliner   \n",
       "29101         2023               3  State Supported             Empire   \n",
       "30473         2023               3  State Supported  Pacific Surfliner   \n",
       "46339         2022               4  State Supported             Empire   \n",
       "4319          2024               3  State Supported             Empire   \n",
       "\n",
       "             Sub Service  Train Number Arrival Station Code  \\\n",
       "22926         Maple Leaf            63                  CBN   \n",
       "24172  Pacific Surfliner           761                  NRG   \n",
       "30496  Pacific Surfliner           784                  NRG   \n",
       "29101         Maple Leaf            63                  CBN   \n",
       "30473  Pacific Surfliner           777                  NRG   \n",
       "46339         Maple Leaf            63                  CBN   \n",
       "4319          Maple Leaf            63                  CBN   \n",
       "\n",
       "           Arrival Station Name  Total Detraining Customers  \\\n",
       "22926  Canadian Border New York                        9314   \n",
       "24172        Northridge Station                         993   \n",
       "30496        Northridge Station                         255   \n",
       "29101  Canadian Border New York                        6071   \n",
       "30473        Northridge Station                         607   \n",
       "46339  Canadian Border New York                          11   \n",
       "4319   Canadian Border New York                        5786   \n",
       "\n",
       "       Late Detraining Customers  Avg Min Late (Lt CS)  \\\n",
       "22926                       1363                  72.0   \n",
       "24172                        189                  33.0   \n",
       "30496                         17                  42.0   \n",
       "29101                        861                  87.0   \n",
       "30473                        108                  53.0   \n",
       "46339                          0                   NaN   \n",
       "4319                         512                  85.0   \n",
       "\n",
       "                Arrival Station       State Country  \n",
       "22926  Canadian Border New York    New York    None  \n",
       "24172        Northridge Station  California    None  \n",
       "30496        Northridge Station  California    None  \n",
       "29101  Canadian Border New York    New York    None  \n",
       "30473        Northridge Station  California    None  \n",
       "46339  Canadian Border New York    New York    None  \n",
       "4319   Canadian Border New York    New York    None  "
      ]
     },
     "execution_count": 24,
     "metadata": {},
     "output_type": "execute_result"
    }
   ],
   "source": [
    "# Sample to confirm CBN and NRB stations have been updated\n",
    "mask = (stations[COLS[\"station_code\"]] == \"CBN\") | (stations[COLS[\"station_code\"]] == \"NRG\")\n",
    "\n",
    "# Apply weights to sample (CBN stations are fewer)\n",
    "weights = stations[mask][COLS[\"station_code\"]].apply(lambda x: 7 if x == \"CBN\" else 1)\n",
    "stations[mask].sample(n=7, weights=weights, random_state=rdg)"
   ]
  },
  {
   "cell_type": "markdown",
   "metadata": {
    "deletable": false,
    "editable": false,
    "nbgrader": {
     "cell_type": "markdown",
     "checksum": "322d9e3119599a91c161ca3e7401b956",
     "grade": false,
     "grade_id": "cell-244ca5f0c6036ddd",
     "locked": true,
     "schema_version": 3,
     "solution": false,
     "task": false
    }
   },
   "source": [
    "### 3.3 Update the \"Country\" column [1 pt]\n",
    "\n",
    "Levarage the \"State\" column to update each \"Country\" column row value with either the \"United States\" or \"Canada\"."
   ]
  },
  {
   "cell_type": "code",
   "execution_count": 25,
   "metadata": {},
   "outputs": [
    {
     "name": "stdout",
     "output_type": "stream",
     "text": [
      "country_counts = Country\n",
      "United States    174\n",
      "Canada            23\n",
      "Name: count, dtype: int64\n"
     ]
    }
   ],
   "source": [
    "# Read states\n",
    "filepath = data_processed_path.joinpath(\"states_provinces.json\")\n",
    "with open(filepath, \"r\") as file_obj:\n",
    "    states_provinces = json.load(file_obj)\n",
    "\n",
    "# Count US and Canadian stations\n",
    "country_counts = stations[COLS[\"country\"]].value_counts()\n",
    "print(f\"country_counts = {country_counts}\")"
   ]
  },
  {
   "cell_type": "markdown",
   "metadata": {
    "deletable": false,
    "editable": false,
    "nbgrader": {
     "cell_type": "markdown",
     "checksum": "e65f59dfda766d91107b2729a91cd7db",
     "grade": false,
     "grade_id": "cell-b6f49db87212a95e",
     "locked": true,
     "schema_version": 3,
     "solution": false,
     "task": false
    }
   },
   "source": [
    "Update the \"Country\" column with \"United States\" and \"Canada\" values by applying the function `get_country()` to each row value."
   ]
  },
  {
   "cell_type": "code",
   "execution_count": 26,
   "metadata": {
    "deletable": false,
    "nbgrader": {
     "cell_type": "code",
     "checksum": "11817c4f8539bf5634e23816cc6341e0",
     "grade": false,
     "grade_id": "cell-00880af5c07c9bdc",
     "locked": false,
     "schema_version": 3,
     "solution": true,
     "task": false
    }
   },
   "outputs": [
    {
     "data": {
      "text/html": [
       "<div>\n",
       "<style scoped>\n",
       "    .dataframe tbody tr th:only-of-type {\n",
       "        vertical-align: middle;\n",
       "    }\n",
       "\n",
       "    .dataframe tbody tr th {\n",
       "        vertical-align: top;\n",
       "    }\n",
       "\n",
       "    .dataframe thead th {\n",
       "        text-align: right;\n",
       "    }\n",
       "</style>\n",
       "<table border=\"1\" class=\"dataframe\">\n",
       "  <thead>\n",
       "    <tr style=\"text-align: right;\">\n",
       "      <th></th>\n",
       "      <th>Fiscal Year</th>\n",
       "      <th>Fiscal Quarter</th>\n",
       "      <th>Service Line</th>\n",
       "      <th>Service</th>\n",
       "      <th>Sub Service</th>\n",
       "      <th>Train Number</th>\n",
       "      <th>Arrival Station Code</th>\n",
       "      <th>Arrival Station Name</th>\n",
       "      <th>Total Detraining Customers</th>\n",
       "      <th>Late Detraining Customers</th>\n",
       "      <th>Avg Min Late (Lt CS)</th>\n",
       "      <th>Arrival Station</th>\n",
       "      <th>State</th>\n",
       "      <th>Country</th>\n",
       "    </tr>\n",
       "  </thead>\n",
       "  <tbody>\n",
       "    <tr>\n",
       "      <th>0</th>\n",
       "      <td>2024</td>\n",
       "      <td>3</td>\n",
       "      <td>Long Distance</td>\n",
       "      <td>Auto Train</td>\n",
       "      <td>Auto Train</td>\n",
       "      <td>52</td>\n",
       "      <td>LOR</td>\n",
       "      <td>Lorton (Auto Train), Virginia</td>\n",
       "      <td>42445</td>\n",
       "      <td>23316</td>\n",
       "      <td>95.0</td>\n",
       "      <td>Lorton (Auto Train)</td>\n",
       "      <td>Virginia</td>\n",
       "      <td>United States</td>\n",
       "    </tr>\n",
       "    <tr>\n",
       "      <th>1</th>\n",
       "      <td>2024</td>\n",
       "      <td>3</td>\n",
       "      <td>Long Distance</td>\n",
       "      <td>Auto Train</td>\n",
       "      <td>Auto Train</td>\n",
       "      <td>53</td>\n",
       "      <td>SFA</td>\n",
       "      <td>Sanford (Auto Train), Florida</td>\n",
       "      <td>28034</td>\n",
       "      <td>18439</td>\n",
       "      <td>91.0</td>\n",
       "      <td>Sanford (Auto Train)</td>\n",
       "      <td>Florida</td>\n",
       "      <td>United States</td>\n",
       "    </tr>\n",
       "    <tr>\n",
       "      <th>2</th>\n",
       "      <td>2024</td>\n",
       "      <td>3</td>\n",
       "      <td>Long Distance</td>\n",
       "      <td>California Zephyr</td>\n",
       "      <td>California Zephyr</td>\n",
       "      <td>5</td>\n",
       "      <td>BRL</td>\n",
       "      <td>Burlington, Iowa</td>\n",
       "      <td>557</td>\n",
       "      <td>223</td>\n",
       "      <td>54.0</td>\n",
       "      <td>Burlington</td>\n",
       "      <td>Iowa</td>\n",
       "      <td>United States</td>\n",
       "    </tr>\n",
       "    <tr>\n",
       "      <th>3</th>\n",
       "      <td>2024</td>\n",
       "      <td>3</td>\n",
       "      <td>Long Distance</td>\n",
       "      <td>California Zephyr</td>\n",
       "      <td>California Zephyr</td>\n",
       "      <td>5</td>\n",
       "      <td>COX</td>\n",
       "      <td>Colfax, California</td>\n",
       "      <td>508</td>\n",
       "      <td>326</td>\n",
       "      <td>99.0</td>\n",
       "      <td>Colfax</td>\n",
       "      <td>California</td>\n",
       "      <td>United States</td>\n",
       "    </tr>\n",
       "    <tr>\n",
       "      <th>4</th>\n",
       "      <td>2024</td>\n",
       "      <td>3</td>\n",
       "      <td>Long Distance</td>\n",
       "      <td>California Zephyr</td>\n",
       "      <td>California Zephyr</td>\n",
       "      <td>5</td>\n",
       "      <td>CRN</td>\n",
       "      <td>Creston, Iowa</td>\n",
       "      <td>205</td>\n",
       "      <td>144</td>\n",
       "      <td>67.0</td>\n",
       "      <td>Creston</td>\n",
       "      <td>Iowa</td>\n",
       "      <td>United States</td>\n",
       "    </tr>\n",
       "    <tr>\n",
       "      <th>...</th>\n",
       "      <td>...</td>\n",
       "      <td>...</td>\n",
       "      <td>...</td>\n",
       "      <td>...</td>\n",
       "      <td>...</td>\n",
       "      <td>...</td>\n",
       "      <td>...</td>\n",
       "      <td>...</td>\n",
       "      <td>...</td>\n",
       "      <td>...</td>\n",
       "      <td>...</td>\n",
       "      <td>...</td>\n",
       "      <td>...</td>\n",
       "      <td>...</td>\n",
       "    </tr>\n",
       "    <tr>\n",
       "      <th>68407</th>\n",
       "      <td>2021</td>\n",
       "      <td>4</td>\n",
       "      <td>State Supported</td>\n",
       "      <td>Vermonter</td>\n",
       "      <td>Vermonter</td>\n",
       "      <td>57</td>\n",
       "      <td>WAS</td>\n",
       "      <td>Washington, District of Columbia</td>\n",
       "      <td>5191</td>\n",
       "      <td>187</td>\n",
       "      <td>37.0</td>\n",
       "      <td>Washington</td>\n",
       "      <td>District of Columbia</td>\n",
       "      <td>United States</td>\n",
       "    </tr>\n",
       "    <tr>\n",
       "      <th>68408</th>\n",
       "      <td>2021</td>\n",
       "      <td>4</td>\n",
       "      <td>State Supported</td>\n",
       "      <td>Vermonter</td>\n",
       "      <td>Vermonter</td>\n",
       "      <td>57</td>\n",
       "      <td>WIL</td>\n",
       "      <td>Wilmington, Delaware</td>\n",
       "      <td>464</td>\n",
       "      <td>45</td>\n",
       "      <td>28.0</td>\n",
       "      <td>Wilmington</td>\n",
       "      <td>Delaware</td>\n",
       "      <td>United States</td>\n",
       "    </tr>\n",
       "    <tr>\n",
       "      <th>68409</th>\n",
       "      <td>2021</td>\n",
       "      <td>4</td>\n",
       "      <td>State Supported</td>\n",
       "      <td>Vermonter</td>\n",
       "      <td>Vermonter</td>\n",
       "      <td>57</td>\n",
       "      <td>WNL</td>\n",
       "      <td>Windsor Locks, Connecticut</td>\n",
       "      <td>21</td>\n",
       "      <td>12</td>\n",
       "      <td>35.0</td>\n",
       "      <td>Windsor Locks</td>\n",
       "      <td>Connecticut</td>\n",
       "      <td>United States</td>\n",
       "    </tr>\n",
       "    <tr>\n",
       "      <th>68410</th>\n",
       "      <td>2021</td>\n",
       "      <td>4</td>\n",
       "      <td>State Supported</td>\n",
       "      <td>Vermonter</td>\n",
       "      <td>Vermonter</td>\n",
       "      <td>57</td>\n",
       "      <td>WNM</td>\n",
       "      <td>Windsor, Vermont</td>\n",
       "      <td>14</td>\n",
       "      <td>10</td>\n",
       "      <td>26.0</td>\n",
       "      <td>Windsor</td>\n",
       "      <td>Vermont</td>\n",
       "      <td>United States</td>\n",
       "    </tr>\n",
       "    <tr>\n",
       "      <th>68411</th>\n",
       "      <td>2021</td>\n",
       "      <td>4</td>\n",
       "      <td>State Supported</td>\n",
       "      <td>Vermonter</td>\n",
       "      <td>Vermonter</td>\n",
       "      <td>57</td>\n",
       "      <td>WRJ</td>\n",
       "      <td>White River Junction, Vermont</td>\n",
       "      <td>61</td>\n",
       "      <td>19</td>\n",
       "      <td>27.0</td>\n",
       "      <td>White River Junction</td>\n",
       "      <td>Vermont</td>\n",
       "      <td>United States</td>\n",
       "    </tr>\n",
       "  </tbody>\n",
       "</table>\n",
       "<p>68412 rows × 14 columns</p>\n",
       "</div>"
      ],
      "text/plain": [
       "       Fiscal Year  Fiscal Quarter     Service Line            Service  \\\n",
       "0             2024               3    Long Distance         Auto Train   \n",
       "1             2024               3    Long Distance         Auto Train   \n",
       "2             2024               3    Long Distance  California Zephyr   \n",
       "3             2024               3    Long Distance  California Zephyr   \n",
       "4             2024               3    Long Distance  California Zephyr   \n",
       "...            ...             ...              ...                ...   \n",
       "68407         2021               4  State Supported          Vermonter   \n",
       "68408         2021               4  State Supported          Vermonter   \n",
       "68409         2021               4  State Supported          Vermonter   \n",
       "68410         2021               4  State Supported          Vermonter   \n",
       "68411         2021               4  State Supported          Vermonter   \n",
       "\n",
       "             Sub Service  Train Number Arrival Station Code  \\\n",
       "0             Auto Train            52                  LOR   \n",
       "1             Auto Train            53                  SFA   \n",
       "2      California Zephyr             5                  BRL   \n",
       "3      California Zephyr             5                  COX   \n",
       "4      California Zephyr             5                  CRN   \n",
       "...                  ...           ...                  ...   \n",
       "68407          Vermonter            57                  WAS   \n",
       "68408          Vermonter            57                  WIL   \n",
       "68409          Vermonter            57                  WNL   \n",
       "68410          Vermonter            57                  WNM   \n",
       "68411          Vermonter            57                  WRJ   \n",
       "\n",
       "                   Arrival Station Name  Total Detraining Customers  \\\n",
       "0         Lorton (Auto Train), Virginia                       42445   \n",
       "1         Sanford (Auto Train), Florida                       28034   \n",
       "2                      Burlington, Iowa                         557   \n",
       "3                    Colfax, California                         508   \n",
       "4                         Creston, Iowa                         205   \n",
       "...                                 ...                         ...   \n",
       "68407  Washington, District of Columbia                        5191   \n",
       "68408              Wilmington, Delaware                         464   \n",
       "68409        Windsor Locks, Connecticut                          21   \n",
       "68410                  Windsor, Vermont                          14   \n",
       "68411     White River Junction, Vermont                          61   \n",
       "\n",
       "       Late Detraining Customers  Avg Min Late (Lt CS)       Arrival Station  \\\n",
       "0                          23316                  95.0   Lorton (Auto Train)   \n",
       "1                          18439                  91.0  Sanford (Auto Train)   \n",
       "2                            223                  54.0            Burlington   \n",
       "3                            326                  99.0                Colfax   \n",
       "4                            144                  67.0               Creston   \n",
       "...                          ...                   ...                   ...   \n",
       "68407                        187                  37.0            Washington   \n",
       "68408                         45                  28.0            Wilmington   \n",
       "68409                         12                  35.0         Windsor Locks   \n",
       "68410                         10                  26.0               Windsor   \n",
       "68411                         19                  27.0  White River Junction   \n",
       "\n",
       "                      State        Country  \n",
       "0                  Virginia  United States  \n",
       "1                   Florida  United States  \n",
       "2                      Iowa  United States  \n",
       "3                California  United States  \n",
       "4                      Iowa  United States  \n",
       "...                     ...            ...  \n",
       "68407  District of Columbia  United States  \n",
       "68408              Delaware  United States  \n",
       "68409           Connecticut  United States  \n",
       "68410               Vermont  United States  \n",
       "68411               Vermont  United States  \n",
       "\n",
       "[68412 rows x 14 columns]"
      ]
     },
     "execution_count": 26,
     "metadata": {},
     "output_type": "execute_result"
    }
   ],
   "source": [
    "# YOUR CODE HERE\n",
    "# Build reverse mapping\n",
    "state_to_country = {state: country for country, states in states_provinces.items() for state in states}\n",
    "\n",
    "# Define the mapping function\n",
    "def get_country(state):\n",
    "    return state_to_country.get(state, np.nan)\n",
    "\n",
    "stations[\"Country\"] = stations[\"State\"].apply(get_country)\n",
    "stations"
   ]
  },
  {
   "cell_type": "code",
   "execution_count": null,
   "metadata": {
    "deletable": false,
    "editable": false,
    "nbgrader": {
     "cell_type": "code",
     "checksum": "6f921e6328fba79552be40a627db8d78",
     "grade": true,
     "grade_id": "cell-bcd50c703a952097",
     "locked": true,
     "points": 1,
     "schema_version": 3,
     "solution": false,
     "task": false
    }
   },
   "outputs": [],
   "source": [
    "#hidden tests are within this cell"
   ]
  },
  {
   "cell_type": "markdown",
   "metadata": {
    "deletable": false,
    "editable": false,
    "nbgrader": {
     "cell_type": "markdown",
     "checksum": "e287b8674d71fe1c08806616031219b0",
     "grade": false,
     "grade_id": "cell-0f3fadf833fce55d",
     "locked": true,
     "schema_version": 3,
     "solution": false,
     "task": false
    }
   },
   "source": [
    "Recheck the \"Country\" column values."
   ]
  },
  {
   "cell_type": "code",
   "execution_count": 27,
   "metadata": {},
   "outputs": [
    {
     "name": "stdout",
     "output_type": "stream",
     "text": [
      "country_counts = Country\n",
      "United States    68376\n",
      "Canada              36\n",
      "Name: count, dtype: int64\n"
     ]
    }
   ],
   "source": [
    "# Count US and Canadian stations\n",
    "country_counts = stations[COLS[\"country\"]].value_counts()\n",
    "print(f\"country_counts = {country_counts}\")"
   ]
  },
  {
   "cell_type": "markdown",
   "metadata": {
    "deletable": false,
    "editable": false,
    "nbgrader": {
     "cell_type": "markdown",
     "checksum": "a37a815577084c22180b68f75b72a50d",
     "grade": false,
     "grade_id": "cell-57060bbbf53000ed",
     "locked": true,
     "schema_version": 3,
     "solution": false,
     "task": false
    }
   },
   "source": [
    "### 3.3 Add region and division columns\n",
    "\n",
    "Read the `regions_divisions.json` file to acquire region and division values. Then levarage the \"State\" column to add new \"Region\" and \"Division\" columns to the `DataFrame`."
   ]
  },
  {
   "cell_type": "code",
   "execution_count": 28,
   "metadata": {},
   "outputs": [
    {
     "name": "stdout",
     "output_type": "stream",
     "text": [
      "dict_keys(['Northeast', 'Midwest', 'South', 'West'])\n",
      "dict_keys(['Mountain', 'Pacific', 'Western Canada'])\n",
      "dict_items([('Mountain', ['Arizona', 'Colorado', 'Idaho', 'Montana', 'Nevada', 'New Mexico', 'Utah', 'Wyoming']), ('Pacific', ['Alaska', 'California', 'Hawaii', 'Oregon', 'Washington']), ('Western Canada', ['Alberta', 'British Columbia', 'Manitoba', 'Saskatchewan'])])\n"
     ]
    }
   ],
   "source": [
    "filepath = data_processed_path.joinpath(\"regions_divisions.json\")\n",
    "with open(filepath, \"r\") as file_obj:\n",
    "    regions_divisions = json.load(file_obj)\n",
    "\n",
    "print(regions_divisions.keys())\n",
    "print(regions_divisions[\"West\"].keys())\n",
    "print(regions_divisions[\"West\"].items())"
   ]
  },
  {
   "cell_type": "markdown",
   "metadata": {
    "deletable": false,
    "editable": false,
    "nbgrader": {
     "cell_type": "markdown",
     "checksum": "e7376b3a386399f2996a4a2009ce6d08",
     "grade": false,
     "grade_id": "cell-6356b508d513863d",
     "locked": true,
     "schema_version": 3,
     "solution": false,
     "task": false
    }
   },
   "source": [
    "Apply the function `add_regions_divisions()` to each \"Region\" and \"Division\" row."
   ]
  },
  {
   "cell_type": "code",
   "execution_count": 29,
   "metadata": {},
   "outputs": [
    {
     "data": {
      "text/html": [
       "<div>\n",
       "<style scoped>\n",
       "    .dataframe tbody tr th:only-of-type {\n",
       "        vertical-align: middle;\n",
       "    }\n",
       "\n",
       "    .dataframe tbody tr th {\n",
       "        vertical-align: top;\n",
       "    }\n",
       "\n",
       "    .dataframe thead th {\n",
       "        text-align: right;\n",
       "    }\n",
       "</style>\n",
       "<table border=\"1\" class=\"dataframe\">\n",
       "  <thead>\n",
       "    <tr style=\"text-align: right;\">\n",
       "      <th></th>\n",
       "      <th>Fiscal Year</th>\n",
       "      <th>Fiscal Quarter</th>\n",
       "      <th>Service Line</th>\n",
       "      <th>Service</th>\n",
       "      <th>Sub Service</th>\n",
       "      <th>Train Number</th>\n",
       "      <th>Arrival Station Code</th>\n",
       "      <th>Arrival Station Name</th>\n",
       "      <th>Total Detraining Customers</th>\n",
       "      <th>Late Detraining Customers</th>\n",
       "      <th>Avg Min Late (Lt CS)</th>\n",
       "      <th>Arrival Station</th>\n",
       "      <th>State</th>\n",
       "      <th>Country</th>\n",
       "      <th>Region</th>\n",
       "      <th>Division</th>\n",
       "    </tr>\n",
       "  </thead>\n",
       "  <tbody>\n",
       "    <tr>\n",
       "      <th>0</th>\n",
       "      <td>2024</td>\n",
       "      <td>3</td>\n",
       "      <td>Long Distance</td>\n",
       "      <td>Auto Train</td>\n",
       "      <td>Auto Train</td>\n",
       "      <td>52</td>\n",
       "      <td>LOR</td>\n",
       "      <td>Lorton (Auto Train), Virginia</td>\n",
       "      <td>42445</td>\n",
       "      <td>23316</td>\n",
       "      <td>95.0</td>\n",
       "      <td>Lorton (Auto Train)</td>\n",
       "      <td>Virginia</td>\n",
       "      <td>United States</td>\n",
       "      <td>South</td>\n",
       "      <td>South Atlantic</td>\n",
       "    </tr>\n",
       "    <tr>\n",
       "      <th>1</th>\n",
       "      <td>2024</td>\n",
       "      <td>3</td>\n",
       "      <td>Long Distance</td>\n",
       "      <td>Auto Train</td>\n",
       "      <td>Auto Train</td>\n",
       "      <td>53</td>\n",
       "      <td>SFA</td>\n",
       "      <td>Sanford (Auto Train), Florida</td>\n",
       "      <td>28034</td>\n",
       "      <td>18439</td>\n",
       "      <td>91.0</td>\n",
       "      <td>Sanford (Auto Train)</td>\n",
       "      <td>Florida</td>\n",
       "      <td>United States</td>\n",
       "      <td>South</td>\n",
       "      <td>South Atlantic</td>\n",
       "    </tr>\n",
       "    <tr>\n",
       "      <th>2</th>\n",
       "      <td>2024</td>\n",
       "      <td>3</td>\n",
       "      <td>Long Distance</td>\n",
       "      <td>California Zephyr</td>\n",
       "      <td>California Zephyr</td>\n",
       "      <td>5</td>\n",
       "      <td>BRL</td>\n",
       "      <td>Burlington, Iowa</td>\n",
       "      <td>557</td>\n",
       "      <td>223</td>\n",
       "      <td>54.0</td>\n",
       "      <td>Burlington</td>\n",
       "      <td>Iowa</td>\n",
       "      <td>United States</td>\n",
       "      <td>Midwest</td>\n",
       "      <td>West North Central</td>\n",
       "    </tr>\n",
       "    <tr>\n",
       "      <th>3</th>\n",
       "      <td>2024</td>\n",
       "      <td>3</td>\n",
       "      <td>Long Distance</td>\n",
       "      <td>California Zephyr</td>\n",
       "      <td>California Zephyr</td>\n",
       "      <td>5</td>\n",
       "      <td>COX</td>\n",
       "      <td>Colfax, California</td>\n",
       "      <td>508</td>\n",
       "      <td>326</td>\n",
       "      <td>99.0</td>\n",
       "      <td>Colfax</td>\n",
       "      <td>California</td>\n",
       "      <td>United States</td>\n",
       "      <td>West</td>\n",
       "      <td>Pacific</td>\n",
       "    </tr>\n",
       "    <tr>\n",
       "      <th>4</th>\n",
       "      <td>2024</td>\n",
       "      <td>3</td>\n",
       "      <td>Long Distance</td>\n",
       "      <td>California Zephyr</td>\n",
       "      <td>California Zephyr</td>\n",
       "      <td>5</td>\n",
       "      <td>CRN</td>\n",
       "      <td>Creston, Iowa</td>\n",
       "      <td>205</td>\n",
       "      <td>144</td>\n",
       "      <td>67.0</td>\n",
       "      <td>Creston</td>\n",
       "      <td>Iowa</td>\n",
       "      <td>United States</td>\n",
       "      <td>Midwest</td>\n",
       "      <td>West North Central</td>\n",
       "    </tr>\n",
       "  </tbody>\n",
       "</table>\n",
       "</div>"
      ],
      "text/plain": [
       "   Fiscal Year  Fiscal Quarter   Service Line            Service  \\\n",
       "0         2024               3  Long Distance         Auto Train   \n",
       "1         2024               3  Long Distance         Auto Train   \n",
       "2         2024               3  Long Distance  California Zephyr   \n",
       "3         2024               3  Long Distance  California Zephyr   \n",
       "4         2024               3  Long Distance  California Zephyr   \n",
       "\n",
       "         Sub Service  Train Number Arrival Station Code  \\\n",
       "0         Auto Train            52                  LOR   \n",
       "1         Auto Train            53                  SFA   \n",
       "2  California Zephyr             5                  BRL   \n",
       "3  California Zephyr             5                  COX   \n",
       "4  California Zephyr             5                  CRN   \n",
       "\n",
       "            Arrival Station Name  Total Detraining Customers  \\\n",
       "0  Lorton (Auto Train), Virginia                       42445   \n",
       "1  Sanford (Auto Train), Florida                       28034   \n",
       "2               Burlington, Iowa                         557   \n",
       "3             Colfax, California                         508   \n",
       "4                  Creston, Iowa                         205   \n",
       "\n",
       "   Late Detraining Customers  Avg Min Late (Lt CS)       Arrival Station  \\\n",
       "0                      23316                  95.0   Lorton (Auto Train)   \n",
       "1                      18439                  91.0  Sanford (Auto Train)   \n",
       "2                        223                  54.0            Burlington   \n",
       "3                        326                  99.0                Colfax   \n",
       "4                        144                  67.0               Creston   \n",
       "\n",
       "        State        Country   Region            Division  \n",
       "0    Virginia  United States    South      South Atlantic  \n",
       "1     Florida  United States    South      South Atlantic  \n",
       "2        Iowa  United States  Midwest  West North Central  \n",
       "3  California  United States     West             Pacific  \n",
       "4        Iowa  United States  Midwest  West North Central  "
      ]
     },
     "execution_count": 29,
     "metadata": {},
     "output_type": "execute_result"
    }
   ],
   "source": [
    "# Assign region to each state, province, and district\n",
    "stations.loc[:, [COLS[\"region\"], COLS[\"division\"]]] = (\n",
    "    stations.loc[:, COLS[\"state\"]]\n",
    "    .apply(lambda x: pd.Series(ntwk.get_region_division(regions_divisions, x)))\n",
    "    .values\n",
    ")\n",
    "stations.head()"
   ]
  },
  {
   "cell_type": "markdown",
   "metadata": {
    "deletable": false,
    "editable": false,
    "nbgrader": {
     "cell_type": "markdown",
     "checksum": "d54557615102e77787b19ea9ad05a8c7",
     "grade": false,
     "grade_id": "cell-63c09ebed7abf163",
     "locked": true,
     "schema_version": 3,
     "solution": false,
     "task": false
    }
   },
   "source": [
    "### 3.4 Reorder columns [1 pt]\n",
    "\n",
    "Reorder the columns as specified in the table below.\n",
    "\n",
    "| Position | Column Name | Note |\n",
    "| :----- | :------------- | :------------- |\n",
    "| `0`-`1` | \"Fiscal Year\", \"Fiscal Quarter\" | &nbsp; |\n",
    "| `2`-`5` | \"Service Line\", \"Service\", \"Sub Service\", \"Train Number\" | &nbsp; |\n",
    "| `6-8` | \"Arrival Station Code\", \"Arrival Station Name\", \"Arrival Station\" | Drop \"Arrival Station Name\" after confirming column order. |\n",
    "| `9`-`12` | \"State\", \"Division\", \"Region\", \"Country\" | &nbsp; |\n",
    "| `13`-`14` | \"Total Detraining Customers\", \"Late Detraining Customers\" | &nbsp; |\n",
    "| `15` | \"Avg Min Late (Lt CS)\" | &nbsp; |"
   ]
  },
  {
   "cell_type": "code",
   "execution_count": 30,
   "metadata": {
    "deletable": false,
    "nbgrader": {
     "cell_type": "code",
     "checksum": "29a1b9d5b908e3c236641b653a1d6eea",
     "grade": false,
     "grade_id": "cell-0ac9e2f4b0f04b48",
     "locked": false,
     "schema_version": 3,
     "solution": true,
     "task": false
    }
   },
   "outputs": [
    {
     "data": {
      "text/html": [
       "<div>\n",
       "<style scoped>\n",
       "    .dataframe tbody tr th:only-of-type {\n",
       "        vertical-align: middle;\n",
       "    }\n",
       "\n",
       "    .dataframe tbody tr th {\n",
       "        vertical-align: top;\n",
       "    }\n",
       "\n",
       "    .dataframe thead th {\n",
       "        text-align: right;\n",
       "    }\n",
       "</style>\n",
       "<table border=\"1\" class=\"dataframe\">\n",
       "  <thead>\n",
       "    <tr style=\"text-align: right;\">\n",
       "      <th></th>\n",
       "      <th>Fiscal Year</th>\n",
       "      <th>Fiscal Quarter</th>\n",
       "      <th>Service Line</th>\n",
       "      <th>Service</th>\n",
       "      <th>Sub Service</th>\n",
       "      <th>Train Number</th>\n",
       "      <th>Arrival Station Code</th>\n",
       "      <th>Arrival Station Name</th>\n",
       "      <th>Arrival Station</th>\n",
       "      <th>State</th>\n",
       "      <th>Division</th>\n",
       "      <th>Region</th>\n",
       "      <th>Country</th>\n",
       "      <th>Total Detraining Customers</th>\n",
       "      <th>Late Detraining Customers</th>\n",
       "      <th>Avg Min Late (Lt CS)</th>\n",
       "    </tr>\n",
       "  </thead>\n",
       "  <tbody>\n",
       "    <tr>\n",
       "      <th>0</th>\n",
       "      <td>2024</td>\n",
       "      <td>3</td>\n",
       "      <td>Long Distance</td>\n",
       "      <td>Auto Train</td>\n",
       "      <td>Auto Train</td>\n",
       "      <td>52</td>\n",
       "      <td>LOR</td>\n",
       "      <td>Lorton (Auto Train), Virginia</td>\n",
       "      <td>Lorton (Auto Train)</td>\n",
       "      <td>Virginia</td>\n",
       "      <td>South Atlantic</td>\n",
       "      <td>South</td>\n",
       "      <td>United States</td>\n",
       "      <td>42445</td>\n",
       "      <td>23316</td>\n",
       "      <td>95.0</td>\n",
       "    </tr>\n",
       "    <tr>\n",
       "      <th>1</th>\n",
       "      <td>2024</td>\n",
       "      <td>3</td>\n",
       "      <td>Long Distance</td>\n",
       "      <td>Auto Train</td>\n",
       "      <td>Auto Train</td>\n",
       "      <td>53</td>\n",
       "      <td>SFA</td>\n",
       "      <td>Sanford (Auto Train), Florida</td>\n",
       "      <td>Sanford (Auto Train)</td>\n",
       "      <td>Florida</td>\n",
       "      <td>South Atlantic</td>\n",
       "      <td>South</td>\n",
       "      <td>United States</td>\n",
       "      <td>28034</td>\n",
       "      <td>18439</td>\n",
       "      <td>91.0</td>\n",
       "    </tr>\n",
       "    <tr>\n",
       "      <th>2</th>\n",
       "      <td>2024</td>\n",
       "      <td>3</td>\n",
       "      <td>Long Distance</td>\n",
       "      <td>California Zephyr</td>\n",
       "      <td>California Zephyr</td>\n",
       "      <td>5</td>\n",
       "      <td>BRL</td>\n",
       "      <td>Burlington, Iowa</td>\n",
       "      <td>Burlington</td>\n",
       "      <td>Iowa</td>\n",
       "      <td>West North Central</td>\n",
       "      <td>Midwest</td>\n",
       "      <td>United States</td>\n",
       "      <td>557</td>\n",
       "      <td>223</td>\n",
       "      <td>54.0</td>\n",
       "    </tr>\n",
       "    <tr>\n",
       "      <th>3</th>\n",
       "      <td>2024</td>\n",
       "      <td>3</td>\n",
       "      <td>Long Distance</td>\n",
       "      <td>California Zephyr</td>\n",
       "      <td>California Zephyr</td>\n",
       "      <td>5</td>\n",
       "      <td>COX</td>\n",
       "      <td>Colfax, California</td>\n",
       "      <td>Colfax</td>\n",
       "      <td>California</td>\n",
       "      <td>Pacific</td>\n",
       "      <td>West</td>\n",
       "      <td>United States</td>\n",
       "      <td>508</td>\n",
       "      <td>326</td>\n",
       "      <td>99.0</td>\n",
       "    </tr>\n",
       "    <tr>\n",
       "      <th>4</th>\n",
       "      <td>2024</td>\n",
       "      <td>3</td>\n",
       "      <td>Long Distance</td>\n",
       "      <td>California Zephyr</td>\n",
       "      <td>California Zephyr</td>\n",
       "      <td>5</td>\n",
       "      <td>CRN</td>\n",
       "      <td>Creston, Iowa</td>\n",
       "      <td>Creston</td>\n",
       "      <td>Iowa</td>\n",
       "      <td>West North Central</td>\n",
       "      <td>Midwest</td>\n",
       "      <td>United States</td>\n",
       "      <td>205</td>\n",
       "      <td>144</td>\n",
       "      <td>67.0</td>\n",
       "    </tr>\n",
       "    <tr>\n",
       "      <th>...</th>\n",
       "      <td>...</td>\n",
       "      <td>...</td>\n",
       "      <td>...</td>\n",
       "      <td>...</td>\n",
       "      <td>...</td>\n",
       "      <td>...</td>\n",
       "      <td>...</td>\n",
       "      <td>...</td>\n",
       "      <td>...</td>\n",
       "      <td>...</td>\n",
       "      <td>...</td>\n",
       "      <td>...</td>\n",
       "      <td>...</td>\n",
       "      <td>...</td>\n",
       "      <td>...</td>\n",
       "      <td>...</td>\n",
       "    </tr>\n",
       "    <tr>\n",
       "      <th>68407</th>\n",
       "      <td>2021</td>\n",
       "      <td>4</td>\n",
       "      <td>State Supported</td>\n",
       "      <td>Vermonter</td>\n",
       "      <td>Vermonter</td>\n",
       "      <td>57</td>\n",
       "      <td>WAS</td>\n",
       "      <td>Washington, District of Columbia</td>\n",
       "      <td>Washington</td>\n",
       "      <td>District of Columbia</td>\n",
       "      <td>South Atlantic</td>\n",
       "      <td>South</td>\n",
       "      <td>United States</td>\n",
       "      <td>5191</td>\n",
       "      <td>187</td>\n",
       "      <td>37.0</td>\n",
       "    </tr>\n",
       "    <tr>\n",
       "      <th>68408</th>\n",
       "      <td>2021</td>\n",
       "      <td>4</td>\n",
       "      <td>State Supported</td>\n",
       "      <td>Vermonter</td>\n",
       "      <td>Vermonter</td>\n",
       "      <td>57</td>\n",
       "      <td>WIL</td>\n",
       "      <td>Wilmington, Delaware</td>\n",
       "      <td>Wilmington</td>\n",
       "      <td>Delaware</td>\n",
       "      <td>South Atlantic</td>\n",
       "      <td>South</td>\n",
       "      <td>United States</td>\n",
       "      <td>464</td>\n",
       "      <td>45</td>\n",
       "      <td>28.0</td>\n",
       "    </tr>\n",
       "    <tr>\n",
       "      <th>68409</th>\n",
       "      <td>2021</td>\n",
       "      <td>4</td>\n",
       "      <td>State Supported</td>\n",
       "      <td>Vermonter</td>\n",
       "      <td>Vermonter</td>\n",
       "      <td>57</td>\n",
       "      <td>WNL</td>\n",
       "      <td>Windsor Locks, Connecticut</td>\n",
       "      <td>Windsor Locks</td>\n",
       "      <td>Connecticut</td>\n",
       "      <td>New England</td>\n",
       "      <td>Northeast</td>\n",
       "      <td>United States</td>\n",
       "      <td>21</td>\n",
       "      <td>12</td>\n",
       "      <td>35.0</td>\n",
       "    </tr>\n",
       "    <tr>\n",
       "      <th>68410</th>\n",
       "      <td>2021</td>\n",
       "      <td>4</td>\n",
       "      <td>State Supported</td>\n",
       "      <td>Vermonter</td>\n",
       "      <td>Vermonter</td>\n",
       "      <td>57</td>\n",
       "      <td>WNM</td>\n",
       "      <td>Windsor, Vermont</td>\n",
       "      <td>Windsor</td>\n",
       "      <td>Vermont</td>\n",
       "      <td>New England</td>\n",
       "      <td>Northeast</td>\n",
       "      <td>United States</td>\n",
       "      <td>14</td>\n",
       "      <td>10</td>\n",
       "      <td>26.0</td>\n",
       "    </tr>\n",
       "    <tr>\n",
       "      <th>68411</th>\n",
       "      <td>2021</td>\n",
       "      <td>4</td>\n",
       "      <td>State Supported</td>\n",
       "      <td>Vermonter</td>\n",
       "      <td>Vermonter</td>\n",
       "      <td>57</td>\n",
       "      <td>WRJ</td>\n",
       "      <td>White River Junction, Vermont</td>\n",
       "      <td>White River Junction</td>\n",
       "      <td>Vermont</td>\n",
       "      <td>New England</td>\n",
       "      <td>Northeast</td>\n",
       "      <td>United States</td>\n",
       "      <td>61</td>\n",
       "      <td>19</td>\n",
       "      <td>27.0</td>\n",
       "    </tr>\n",
       "  </tbody>\n",
       "</table>\n",
       "<p>68412 rows × 16 columns</p>\n",
       "</div>"
      ],
      "text/plain": [
       "       Fiscal Year  Fiscal Quarter     Service Line            Service  \\\n",
       "0             2024               3    Long Distance         Auto Train   \n",
       "1             2024               3    Long Distance         Auto Train   \n",
       "2             2024               3    Long Distance  California Zephyr   \n",
       "3             2024               3    Long Distance  California Zephyr   \n",
       "4             2024               3    Long Distance  California Zephyr   \n",
       "...            ...             ...              ...                ...   \n",
       "68407         2021               4  State Supported          Vermonter   \n",
       "68408         2021               4  State Supported          Vermonter   \n",
       "68409         2021               4  State Supported          Vermonter   \n",
       "68410         2021               4  State Supported          Vermonter   \n",
       "68411         2021               4  State Supported          Vermonter   \n",
       "\n",
       "             Sub Service  Train Number Arrival Station Code  \\\n",
       "0             Auto Train            52                  LOR   \n",
       "1             Auto Train            53                  SFA   \n",
       "2      California Zephyr             5                  BRL   \n",
       "3      California Zephyr             5                  COX   \n",
       "4      California Zephyr             5                  CRN   \n",
       "...                  ...           ...                  ...   \n",
       "68407          Vermonter            57                  WAS   \n",
       "68408          Vermonter            57                  WIL   \n",
       "68409          Vermonter            57                  WNL   \n",
       "68410          Vermonter            57                  WNM   \n",
       "68411          Vermonter            57                  WRJ   \n",
       "\n",
       "                   Arrival Station Name       Arrival Station  \\\n",
       "0         Lorton (Auto Train), Virginia   Lorton (Auto Train)   \n",
       "1         Sanford (Auto Train), Florida  Sanford (Auto Train)   \n",
       "2                      Burlington, Iowa            Burlington   \n",
       "3                    Colfax, California                Colfax   \n",
       "4                         Creston, Iowa               Creston   \n",
       "...                                 ...                   ...   \n",
       "68407  Washington, District of Columbia            Washington   \n",
       "68408              Wilmington, Delaware            Wilmington   \n",
       "68409        Windsor Locks, Connecticut         Windsor Locks   \n",
       "68410                  Windsor, Vermont               Windsor   \n",
       "68411     White River Junction, Vermont  White River Junction   \n",
       "\n",
       "                      State            Division     Region        Country  \\\n",
       "0                  Virginia      South Atlantic      South  United States   \n",
       "1                   Florida      South Atlantic      South  United States   \n",
       "2                      Iowa  West North Central    Midwest  United States   \n",
       "3                California             Pacific       West  United States   \n",
       "4                      Iowa  West North Central    Midwest  United States   \n",
       "...                     ...                 ...        ...            ...   \n",
       "68407  District of Columbia      South Atlantic      South  United States   \n",
       "68408              Delaware      South Atlantic      South  United States   \n",
       "68409           Connecticut         New England  Northeast  United States   \n",
       "68410               Vermont         New England  Northeast  United States   \n",
       "68411               Vermont         New England  Northeast  United States   \n",
       "\n",
       "       Total Detraining Customers  Late Detraining Customers  \\\n",
       "0                           42445                      23316   \n",
       "1                           28034                      18439   \n",
       "2                             557                        223   \n",
       "3                             508                        326   \n",
       "4                             205                        144   \n",
       "...                           ...                        ...   \n",
       "68407                        5191                        187   \n",
       "68408                         464                         45   \n",
       "68409                          21                         12   \n",
       "68410                          14                         10   \n",
       "68411                          61                         19   \n",
       "\n",
       "       Avg Min Late (Lt CS)  \n",
       "0                      95.0  \n",
       "1                      91.0  \n",
       "2                      54.0  \n",
       "3                      99.0  \n",
       "4                      67.0  \n",
       "...                     ...  \n",
       "68407                  37.0  \n",
       "68408                  28.0  \n",
       "68409                  35.0  \n",
       "68410                  26.0  \n",
       "68411                  27.0  \n",
       "\n",
       "[68412 rows x 16 columns]"
      ]
     },
     "execution_count": 30,
     "metadata": {},
     "output_type": "execute_result"
    }
   ],
   "source": [
    "stations = stations[[\"Fiscal Year\", \"Fiscal Quarter\", \"Service Line\", \"Service\", \"Sub Service\", \"Train Number\", \"Arrival Station Code\", \"Arrival Station Name\", \"Arrival Station\",\n",
    "             \"State\", \"Division\", \"Region\", \"Country\", \"Total Detraining Customers\", \"Late Detraining Customers\", \"Avg Min Late (Lt CS)\"]]\n",
    "stations"
   ]
  },
  {
   "cell_type": "code",
   "execution_count": null,
   "metadata": {
    "deletable": false,
    "editable": false,
    "nbgrader": {
     "cell_type": "code",
     "checksum": "aa2c28bdda09d5ef61527eaab66ecaed",
     "grade": true,
     "grade_id": "cell-d14d4555e196f5f2",
     "locked": true,
     "points": 1,
     "schema_version": 3,
     "solution": false,
     "task": false
    }
   },
   "outputs": [],
   "source": [
    "#hidden tests are within this cell"
   ]
  },
  {
   "cell_type": "markdown",
   "metadata": {
    "deletable": false,
    "editable": false,
    "nbgrader": {
     "cell_type": "markdown",
     "checksum": "e41b0cc5c5495ee0f344df1f036f95b1",
     "grade": false,
     "grade_id": "cell-24b58c1ef4fe2416",
     "locked": true,
     "schema_version": 3,
     "solution": false,
     "task": false
    }
   },
   "source": [
    "### 3.5 Drop \"Arrival Station Name\" column [1 pt]\n",
    "\n",
    "Now redundant. Remove."
   ]
  },
  {
   "cell_type": "code",
   "execution_count": 33,
   "metadata": {
    "deletable": false,
    "nbgrader": {
     "cell_type": "code",
     "checksum": "160132df27f77ea32137d55157f22a34",
     "grade": false,
     "grade_id": "cell-865ab7cc7fa81164",
     "locked": false,
     "schema_version": 3,
     "solution": true,
     "task": false
    }
   },
   "outputs": [
    {
     "ename": "KeyError",
     "evalue": "\"['Arrival Station Name'] not found in axis\"",
     "output_type": "error",
     "traceback": [
      "\u001b[0;31m---------------------------------------------------------------------------\u001b[0m",
      "\u001b[0;31mKeyError\u001b[0m                                  Traceback (most recent call last)",
      "Cell \u001b[0;32mIn[33], line 1\u001b[0m\n\u001b[0;32m----> 1\u001b[0m \u001b[43mstations\u001b[49m\u001b[38;5;241;43m.\u001b[39;49m\u001b[43mdrop\u001b[49m\u001b[43m(\u001b[49m\u001b[43mcolumns\u001b[49m\u001b[38;5;241;43m=\u001b[39;49m\u001b[43m[\u001b[49m\u001b[38;5;124;43m\"\u001b[39;49m\u001b[38;5;124;43mArrival Station Name\u001b[39;49m\u001b[38;5;124;43m\"\u001b[39;49m\u001b[43m]\u001b[49m\u001b[43m,\u001b[49m\u001b[43m \u001b[49m\u001b[43minplace\u001b[49m\u001b[38;5;241;43m=\u001b[39;49m\u001b[38;5;28;43;01mTrue\u001b[39;49;00m\u001b[43m)\u001b[49m\n\u001b[1;32m      2\u001b[0m stations\u001b[38;5;241m.\u001b[39minfo()\n",
      "File \u001b[0;32m/opt/conda/lib/python3.11/site-packages/pandas/core/frame.py:5581\u001b[0m, in \u001b[0;36mDataFrame.drop\u001b[0;34m(self, labels, axis, index, columns, level, inplace, errors)\u001b[0m\n\u001b[1;32m   5433\u001b[0m \u001b[38;5;28;01mdef\u001b[39;00m \u001b[38;5;21mdrop\u001b[39m(\n\u001b[1;32m   5434\u001b[0m     \u001b[38;5;28mself\u001b[39m,\n\u001b[1;32m   5435\u001b[0m     labels: IndexLabel \u001b[38;5;241m|\u001b[39m \u001b[38;5;28;01mNone\u001b[39;00m \u001b[38;5;241m=\u001b[39m \u001b[38;5;28;01mNone\u001b[39;00m,\n\u001b[0;32m   (...)\u001b[0m\n\u001b[1;32m   5442\u001b[0m     errors: IgnoreRaise \u001b[38;5;241m=\u001b[39m \u001b[38;5;124m\"\u001b[39m\u001b[38;5;124mraise\u001b[39m\u001b[38;5;124m\"\u001b[39m,\n\u001b[1;32m   5443\u001b[0m ) \u001b[38;5;241m-\u001b[39m\u001b[38;5;241m>\u001b[39m DataFrame \u001b[38;5;241m|\u001b[39m \u001b[38;5;28;01mNone\u001b[39;00m:\n\u001b[1;32m   5444\u001b[0m \u001b[38;5;250m    \u001b[39m\u001b[38;5;124;03m\"\"\"\u001b[39;00m\n\u001b[1;32m   5445\u001b[0m \u001b[38;5;124;03m    Drop specified labels from rows or columns.\u001b[39;00m\n\u001b[1;32m   5446\u001b[0m \n\u001b[0;32m   (...)\u001b[0m\n\u001b[1;32m   5579\u001b[0m \u001b[38;5;124;03m            weight  1.0     0.8\u001b[39;00m\n\u001b[1;32m   5580\u001b[0m \u001b[38;5;124;03m    \"\"\"\u001b[39;00m\n\u001b[0;32m-> 5581\u001b[0m     \u001b[38;5;28;01mreturn\u001b[39;00m \u001b[38;5;28;43msuper\u001b[39;49m\u001b[43m(\u001b[49m\u001b[43m)\u001b[49m\u001b[38;5;241;43m.\u001b[39;49m\u001b[43mdrop\u001b[49m\u001b[43m(\u001b[49m\n\u001b[1;32m   5582\u001b[0m \u001b[43m        \u001b[49m\u001b[43mlabels\u001b[49m\u001b[38;5;241;43m=\u001b[39;49m\u001b[43mlabels\u001b[49m\u001b[43m,\u001b[49m\n\u001b[1;32m   5583\u001b[0m \u001b[43m        \u001b[49m\u001b[43maxis\u001b[49m\u001b[38;5;241;43m=\u001b[39;49m\u001b[43maxis\u001b[49m\u001b[43m,\u001b[49m\n\u001b[1;32m   5584\u001b[0m \u001b[43m        \u001b[49m\u001b[43mindex\u001b[49m\u001b[38;5;241;43m=\u001b[39;49m\u001b[43mindex\u001b[49m\u001b[43m,\u001b[49m\n\u001b[1;32m   5585\u001b[0m \u001b[43m        \u001b[49m\u001b[43mcolumns\u001b[49m\u001b[38;5;241;43m=\u001b[39;49m\u001b[43mcolumns\u001b[49m\u001b[43m,\u001b[49m\n\u001b[1;32m   5586\u001b[0m \u001b[43m        \u001b[49m\u001b[43mlevel\u001b[49m\u001b[38;5;241;43m=\u001b[39;49m\u001b[43mlevel\u001b[49m\u001b[43m,\u001b[49m\n\u001b[1;32m   5587\u001b[0m \u001b[43m        \u001b[49m\u001b[43minplace\u001b[49m\u001b[38;5;241;43m=\u001b[39;49m\u001b[43minplace\u001b[49m\u001b[43m,\u001b[49m\n\u001b[1;32m   5588\u001b[0m \u001b[43m        \u001b[49m\u001b[43merrors\u001b[49m\u001b[38;5;241;43m=\u001b[39;49m\u001b[43merrors\u001b[49m\u001b[43m,\u001b[49m\n\u001b[1;32m   5589\u001b[0m \u001b[43m    \u001b[49m\u001b[43m)\u001b[49m\n",
      "File \u001b[0;32m/opt/conda/lib/python3.11/site-packages/pandas/core/generic.py:4788\u001b[0m, in \u001b[0;36mNDFrame.drop\u001b[0;34m(self, labels, axis, index, columns, level, inplace, errors)\u001b[0m\n\u001b[1;32m   4786\u001b[0m \u001b[38;5;28;01mfor\u001b[39;00m axis, labels \u001b[38;5;129;01min\u001b[39;00m axes\u001b[38;5;241m.\u001b[39mitems():\n\u001b[1;32m   4787\u001b[0m     \u001b[38;5;28;01mif\u001b[39;00m labels \u001b[38;5;129;01mis\u001b[39;00m \u001b[38;5;129;01mnot\u001b[39;00m \u001b[38;5;28;01mNone\u001b[39;00m:\n\u001b[0;32m-> 4788\u001b[0m         obj \u001b[38;5;241m=\u001b[39m \u001b[43mobj\u001b[49m\u001b[38;5;241;43m.\u001b[39;49m\u001b[43m_drop_axis\u001b[49m\u001b[43m(\u001b[49m\u001b[43mlabels\u001b[49m\u001b[43m,\u001b[49m\u001b[43m \u001b[49m\u001b[43maxis\u001b[49m\u001b[43m,\u001b[49m\u001b[43m \u001b[49m\u001b[43mlevel\u001b[49m\u001b[38;5;241;43m=\u001b[39;49m\u001b[43mlevel\u001b[49m\u001b[43m,\u001b[49m\u001b[43m \u001b[49m\u001b[43merrors\u001b[49m\u001b[38;5;241;43m=\u001b[39;49m\u001b[43merrors\u001b[49m\u001b[43m)\u001b[49m\n\u001b[1;32m   4790\u001b[0m \u001b[38;5;28;01mif\u001b[39;00m inplace:\n\u001b[1;32m   4791\u001b[0m     \u001b[38;5;28mself\u001b[39m\u001b[38;5;241m.\u001b[39m_update_inplace(obj)\n",
      "File \u001b[0;32m/opt/conda/lib/python3.11/site-packages/pandas/core/generic.py:4830\u001b[0m, in \u001b[0;36mNDFrame._drop_axis\u001b[0;34m(self, labels, axis, level, errors, only_slice)\u001b[0m\n\u001b[1;32m   4828\u001b[0m         new_axis \u001b[38;5;241m=\u001b[39m axis\u001b[38;5;241m.\u001b[39mdrop(labels, level\u001b[38;5;241m=\u001b[39mlevel, errors\u001b[38;5;241m=\u001b[39merrors)\n\u001b[1;32m   4829\u001b[0m     \u001b[38;5;28;01melse\u001b[39;00m:\n\u001b[0;32m-> 4830\u001b[0m         new_axis \u001b[38;5;241m=\u001b[39m \u001b[43maxis\u001b[49m\u001b[38;5;241;43m.\u001b[39;49m\u001b[43mdrop\u001b[49m\u001b[43m(\u001b[49m\u001b[43mlabels\u001b[49m\u001b[43m,\u001b[49m\u001b[43m \u001b[49m\u001b[43merrors\u001b[49m\u001b[38;5;241;43m=\u001b[39;49m\u001b[43merrors\u001b[49m\u001b[43m)\u001b[49m\n\u001b[1;32m   4831\u001b[0m     indexer \u001b[38;5;241m=\u001b[39m axis\u001b[38;5;241m.\u001b[39mget_indexer(new_axis)\n\u001b[1;32m   4833\u001b[0m \u001b[38;5;66;03m# Case for non-unique axis\u001b[39;00m\n\u001b[1;32m   4834\u001b[0m \u001b[38;5;28;01melse\u001b[39;00m:\n",
      "File \u001b[0;32m/opt/conda/lib/python3.11/site-packages/pandas/core/indexes/base.py:7070\u001b[0m, in \u001b[0;36mIndex.drop\u001b[0;34m(self, labels, errors)\u001b[0m\n\u001b[1;32m   7068\u001b[0m \u001b[38;5;28;01mif\u001b[39;00m mask\u001b[38;5;241m.\u001b[39many():\n\u001b[1;32m   7069\u001b[0m     \u001b[38;5;28;01mif\u001b[39;00m errors \u001b[38;5;241m!=\u001b[39m \u001b[38;5;124m\"\u001b[39m\u001b[38;5;124mignore\u001b[39m\u001b[38;5;124m\"\u001b[39m:\n\u001b[0;32m-> 7070\u001b[0m         \u001b[38;5;28;01mraise\u001b[39;00m \u001b[38;5;167;01mKeyError\u001b[39;00m(\u001b[38;5;124mf\u001b[39m\u001b[38;5;124m\"\u001b[39m\u001b[38;5;132;01m{\u001b[39;00mlabels[mask]\u001b[38;5;241m.\u001b[39mtolist()\u001b[38;5;132;01m}\u001b[39;00m\u001b[38;5;124m not found in axis\u001b[39m\u001b[38;5;124m\"\u001b[39m)\n\u001b[1;32m   7071\u001b[0m     indexer \u001b[38;5;241m=\u001b[39m indexer[\u001b[38;5;241m~\u001b[39mmask]\n\u001b[1;32m   7072\u001b[0m \u001b[38;5;28;01mreturn\u001b[39;00m \u001b[38;5;28mself\u001b[39m\u001b[38;5;241m.\u001b[39mdelete(indexer)\n",
      "\u001b[0;31mKeyError\u001b[0m: \"['Arrival Station Name'] not found in axis\""
     ]
    }
   ],
   "source": [
    "stations.drop(columns=[\"Arrival Station Name\"], inplace=True)"
   ]
  },
  {
   "cell_type": "code",
   "execution_count": null,
   "metadata": {
    "deletable": false,
    "editable": false,
    "nbgrader": {
     "cell_type": "code",
     "checksum": "7c8e0bb478d11caebb7d447f1d7f2636",
     "grade": true,
     "grade_id": "cell-26345e2b5e9f7f67",
     "locked": true,
     "points": 1,
     "schema_version": 3,
     "solution": false,
     "task": false
    }
   },
   "outputs": [],
   "source": [
    "#hidden tests are within this cell"
   ]
  },
  {
   "cell_type": "markdown",
   "metadata": {
    "deletable": false,
    "editable": false,
    "nbgrader": {
     "cell_type": "markdown",
     "checksum": "07b40aeef940467a8347c64ebc802986",
     "grade": false,
     "grade_id": "cell-0cfc7f2a4b63dd4f",
     "locked": true,
     "schema_version": 3,
     "solution": false,
     "task": false
    }
   },
   "source": [
    "### 3.6 Rename the \"Avg Min Late (Lt CS)\" column [1 pt]\n",
    "\n",
    "The presence of parentheses `()` in the \"Avg Min Late (Lt CS)\" column name may cause issues in subsequent analysis. Rename the column to \"Late Detraining Customers Avg Min Late\"."
   ]
  },
  {
   "cell_type": "code",
   "execution_count": 37,
   "metadata": {
    "deletable": false,
    "nbgrader": {
     "cell_type": "code",
     "checksum": "8483afd69ef6e7086cee73bfb1dde66c",
     "grade": false,
     "grade_id": "cell-b703bb65c46305cb",
     "locked": false,
     "schema_version": 3,
     "solution": true,
     "task": false
    }
   },
   "outputs": [
    {
     "data": {
      "text/html": [
       "<div>\n",
       "<style scoped>\n",
       "    .dataframe tbody tr th:only-of-type {\n",
       "        vertical-align: middle;\n",
       "    }\n",
       "\n",
       "    .dataframe tbody tr th {\n",
       "        vertical-align: top;\n",
       "    }\n",
       "\n",
       "    .dataframe thead th {\n",
       "        text-align: right;\n",
       "    }\n",
       "</style>\n",
       "<table border=\"1\" class=\"dataframe\">\n",
       "  <thead>\n",
       "    <tr style=\"text-align: right;\">\n",
       "      <th></th>\n",
       "      <th>Fiscal Year</th>\n",
       "      <th>Fiscal Quarter</th>\n",
       "      <th>Service Line</th>\n",
       "      <th>Service</th>\n",
       "      <th>Sub Service</th>\n",
       "      <th>Train Number</th>\n",
       "      <th>Arrival Station Code</th>\n",
       "      <th>Arrival Station Name</th>\n",
       "      <th>Arrival Station</th>\n",
       "      <th>State</th>\n",
       "      <th>Division</th>\n",
       "      <th>Region</th>\n",
       "      <th>Country</th>\n",
       "      <th>Total Detraining Customers</th>\n",
       "      <th>Late Detraining Customers</th>\n",
       "      <th>Late Detraining Customers Avg Min Late</th>\n",
       "    </tr>\n",
       "  </thead>\n",
       "  <tbody>\n",
       "    <tr>\n",
       "      <th>0</th>\n",
       "      <td>2024</td>\n",
       "      <td>3</td>\n",
       "      <td>Long Distance</td>\n",
       "      <td>Auto Train</td>\n",
       "      <td>Auto Train</td>\n",
       "      <td>52</td>\n",
       "      <td>LOR</td>\n",
       "      <td>Lorton (Auto Train), Virginia</td>\n",
       "      <td>Lorton (Auto Train)</td>\n",
       "      <td>Virginia</td>\n",
       "      <td>South Atlantic</td>\n",
       "      <td>South</td>\n",
       "      <td>United States</td>\n",
       "      <td>42445</td>\n",
       "      <td>23316</td>\n",
       "      <td>95.0</td>\n",
       "    </tr>\n",
       "    <tr>\n",
       "      <th>1</th>\n",
       "      <td>2024</td>\n",
       "      <td>3</td>\n",
       "      <td>Long Distance</td>\n",
       "      <td>Auto Train</td>\n",
       "      <td>Auto Train</td>\n",
       "      <td>53</td>\n",
       "      <td>SFA</td>\n",
       "      <td>Sanford (Auto Train), Florida</td>\n",
       "      <td>Sanford (Auto Train)</td>\n",
       "      <td>Florida</td>\n",
       "      <td>South Atlantic</td>\n",
       "      <td>South</td>\n",
       "      <td>United States</td>\n",
       "      <td>28034</td>\n",
       "      <td>18439</td>\n",
       "      <td>91.0</td>\n",
       "    </tr>\n",
       "    <tr>\n",
       "      <th>2</th>\n",
       "      <td>2024</td>\n",
       "      <td>3</td>\n",
       "      <td>Long Distance</td>\n",
       "      <td>California Zephyr</td>\n",
       "      <td>California Zephyr</td>\n",
       "      <td>5</td>\n",
       "      <td>BRL</td>\n",
       "      <td>Burlington, Iowa</td>\n",
       "      <td>Burlington</td>\n",
       "      <td>Iowa</td>\n",
       "      <td>West North Central</td>\n",
       "      <td>Midwest</td>\n",
       "      <td>United States</td>\n",
       "      <td>557</td>\n",
       "      <td>223</td>\n",
       "      <td>54.0</td>\n",
       "    </tr>\n",
       "    <tr>\n",
       "      <th>3</th>\n",
       "      <td>2024</td>\n",
       "      <td>3</td>\n",
       "      <td>Long Distance</td>\n",
       "      <td>California Zephyr</td>\n",
       "      <td>California Zephyr</td>\n",
       "      <td>5</td>\n",
       "      <td>COX</td>\n",
       "      <td>Colfax, California</td>\n",
       "      <td>Colfax</td>\n",
       "      <td>California</td>\n",
       "      <td>Pacific</td>\n",
       "      <td>West</td>\n",
       "      <td>United States</td>\n",
       "      <td>508</td>\n",
       "      <td>326</td>\n",
       "      <td>99.0</td>\n",
       "    </tr>\n",
       "    <tr>\n",
       "      <th>4</th>\n",
       "      <td>2024</td>\n",
       "      <td>3</td>\n",
       "      <td>Long Distance</td>\n",
       "      <td>California Zephyr</td>\n",
       "      <td>California Zephyr</td>\n",
       "      <td>5</td>\n",
       "      <td>CRN</td>\n",
       "      <td>Creston, Iowa</td>\n",
       "      <td>Creston</td>\n",
       "      <td>Iowa</td>\n",
       "      <td>West North Central</td>\n",
       "      <td>Midwest</td>\n",
       "      <td>United States</td>\n",
       "      <td>205</td>\n",
       "      <td>144</td>\n",
       "      <td>67.0</td>\n",
       "    </tr>\n",
       "    <tr>\n",
       "      <th>...</th>\n",
       "      <td>...</td>\n",
       "      <td>...</td>\n",
       "      <td>...</td>\n",
       "      <td>...</td>\n",
       "      <td>...</td>\n",
       "      <td>...</td>\n",
       "      <td>...</td>\n",
       "      <td>...</td>\n",
       "      <td>...</td>\n",
       "      <td>...</td>\n",
       "      <td>...</td>\n",
       "      <td>...</td>\n",
       "      <td>...</td>\n",
       "      <td>...</td>\n",
       "      <td>...</td>\n",
       "      <td>...</td>\n",
       "    </tr>\n",
       "    <tr>\n",
       "      <th>68407</th>\n",
       "      <td>2021</td>\n",
       "      <td>4</td>\n",
       "      <td>State Supported</td>\n",
       "      <td>Vermonter</td>\n",
       "      <td>Vermonter</td>\n",
       "      <td>57</td>\n",
       "      <td>WAS</td>\n",
       "      <td>Washington, District of Columbia</td>\n",
       "      <td>Washington</td>\n",
       "      <td>District of Columbia</td>\n",
       "      <td>South Atlantic</td>\n",
       "      <td>South</td>\n",
       "      <td>United States</td>\n",
       "      <td>5191</td>\n",
       "      <td>187</td>\n",
       "      <td>37.0</td>\n",
       "    </tr>\n",
       "    <tr>\n",
       "      <th>68408</th>\n",
       "      <td>2021</td>\n",
       "      <td>4</td>\n",
       "      <td>State Supported</td>\n",
       "      <td>Vermonter</td>\n",
       "      <td>Vermonter</td>\n",
       "      <td>57</td>\n",
       "      <td>WIL</td>\n",
       "      <td>Wilmington, Delaware</td>\n",
       "      <td>Wilmington</td>\n",
       "      <td>Delaware</td>\n",
       "      <td>South Atlantic</td>\n",
       "      <td>South</td>\n",
       "      <td>United States</td>\n",
       "      <td>464</td>\n",
       "      <td>45</td>\n",
       "      <td>28.0</td>\n",
       "    </tr>\n",
       "    <tr>\n",
       "      <th>68409</th>\n",
       "      <td>2021</td>\n",
       "      <td>4</td>\n",
       "      <td>State Supported</td>\n",
       "      <td>Vermonter</td>\n",
       "      <td>Vermonter</td>\n",
       "      <td>57</td>\n",
       "      <td>WNL</td>\n",
       "      <td>Windsor Locks, Connecticut</td>\n",
       "      <td>Windsor Locks</td>\n",
       "      <td>Connecticut</td>\n",
       "      <td>New England</td>\n",
       "      <td>Northeast</td>\n",
       "      <td>United States</td>\n",
       "      <td>21</td>\n",
       "      <td>12</td>\n",
       "      <td>35.0</td>\n",
       "    </tr>\n",
       "    <tr>\n",
       "      <th>68410</th>\n",
       "      <td>2021</td>\n",
       "      <td>4</td>\n",
       "      <td>State Supported</td>\n",
       "      <td>Vermonter</td>\n",
       "      <td>Vermonter</td>\n",
       "      <td>57</td>\n",
       "      <td>WNM</td>\n",
       "      <td>Windsor, Vermont</td>\n",
       "      <td>Windsor</td>\n",
       "      <td>Vermont</td>\n",
       "      <td>New England</td>\n",
       "      <td>Northeast</td>\n",
       "      <td>United States</td>\n",
       "      <td>14</td>\n",
       "      <td>10</td>\n",
       "      <td>26.0</td>\n",
       "    </tr>\n",
       "    <tr>\n",
       "      <th>68411</th>\n",
       "      <td>2021</td>\n",
       "      <td>4</td>\n",
       "      <td>State Supported</td>\n",
       "      <td>Vermonter</td>\n",
       "      <td>Vermonter</td>\n",
       "      <td>57</td>\n",
       "      <td>WRJ</td>\n",
       "      <td>White River Junction, Vermont</td>\n",
       "      <td>White River Junction</td>\n",
       "      <td>Vermont</td>\n",
       "      <td>New England</td>\n",
       "      <td>Northeast</td>\n",
       "      <td>United States</td>\n",
       "      <td>61</td>\n",
       "      <td>19</td>\n",
       "      <td>27.0</td>\n",
       "    </tr>\n",
       "  </tbody>\n",
       "</table>\n",
       "<p>68412 rows × 16 columns</p>\n",
       "</div>"
      ],
      "text/plain": [
       "       Fiscal Year  Fiscal Quarter     Service Line            Service  \\\n",
       "0             2024               3    Long Distance         Auto Train   \n",
       "1             2024               3    Long Distance         Auto Train   \n",
       "2             2024               3    Long Distance  California Zephyr   \n",
       "3             2024               3    Long Distance  California Zephyr   \n",
       "4             2024               3    Long Distance  California Zephyr   \n",
       "...            ...             ...              ...                ...   \n",
       "68407         2021               4  State Supported          Vermonter   \n",
       "68408         2021               4  State Supported          Vermonter   \n",
       "68409         2021               4  State Supported          Vermonter   \n",
       "68410         2021               4  State Supported          Vermonter   \n",
       "68411         2021               4  State Supported          Vermonter   \n",
       "\n",
       "             Sub Service  Train Number Arrival Station Code  \\\n",
       "0             Auto Train            52                  LOR   \n",
       "1             Auto Train            53                  SFA   \n",
       "2      California Zephyr             5                  BRL   \n",
       "3      California Zephyr             5                  COX   \n",
       "4      California Zephyr             5                  CRN   \n",
       "...                  ...           ...                  ...   \n",
       "68407          Vermonter            57                  WAS   \n",
       "68408          Vermonter            57                  WIL   \n",
       "68409          Vermonter            57                  WNL   \n",
       "68410          Vermonter            57                  WNM   \n",
       "68411          Vermonter            57                  WRJ   \n",
       "\n",
       "                   Arrival Station Name       Arrival Station  \\\n",
       "0         Lorton (Auto Train), Virginia   Lorton (Auto Train)   \n",
       "1         Sanford (Auto Train), Florida  Sanford (Auto Train)   \n",
       "2                      Burlington, Iowa            Burlington   \n",
       "3                    Colfax, California                Colfax   \n",
       "4                         Creston, Iowa               Creston   \n",
       "...                                 ...                   ...   \n",
       "68407  Washington, District of Columbia            Washington   \n",
       "68408              Wilmington, Delaware            Wilmington   \n",
       "68409        Windsor Locks, Connecticut         Windsor Locks   \n",
       "68410                  Windsor, Vermont               Windsor   \n",
       "68411     White River Junction, Vermont  White River Junction   \n",
       "\n",
       "                      State            Division     Region        Country  \\\n",
       "0                  Virginia      South Atlantic      South  United States   \n",
       "1                   Florida      South Atlantic      South  United States   \n",
       "2                      Iowa  West North Central    Midwest  United States   \n",
       "3                California             Pacific       West  United States   \n",
       "4                      Iowa  West North Central    Midwest  United States   \n",
       "...                     ...                 ...        ...            ...   \n",
       "68407  District of Columbia      South Atlantic      South  United States   \n",
       "68408              Delaware      South Atlantic      South  United States   \n",
       "68409           Connecticut         New England  Northeast  United States   \n",
       "68410               Vermont         New England  Northeast  United States   \n",
       "68411               Vermont         New England  Northeast  United States   \n",
       "\n",
       "       Total Detraining Customers  Late Detraining Customers  \\\n",
       "0                           42445                      23316   \n",
       "1                           28034                      18439   \n",
       "2                             557                        223   \n",
       "3                             508                        326   \n",
       "4                             205                        144   \n",
       "...                           ...                        ...   \n",
       "68407                        5191                        187   \n",
       "68408                         464                         45   \n",
       "68409                          21                         12   \n",
       "68410                          14                         10   \n",
       "68411                          61                         19   \n",
       "\n",
       "       Late Detraining Customers Avg Min Late  \n",
       "0                                        95.0  \n",
       "1                                        91.0  \n",
       "2                                        54.0  \n",
       "3                                        99.0  \n",
       "4                                        67.0  \n",
       "...                                       ...  \n",
       "68407                                    37.0  \n",
       "68408                                    28.0  \n",
       "68409                                    35.0  \n",
       "68410                                    26.0  \n",
       "68411                                    27.0  \n",
       "\n",
       "[68412 rows x 16 columns]"
      ]
     },
     "execution_count": 37,
     "metadata": {},
     "output_type": "execute_result"
    }
   ],
   "source": [
    "# YOUR CODE HERE\n",
    "stations.rename(columns={\"Avg Min Late (Lt CS)\": \"Late Detraining Customers Avg Min Late\"}, inplace=True)\n",
    "stations"
   ]
  },
  {
   "cell_type": "code",
   "execution_count": null,
   "metadata": {
    "deletable": false,
    "editable": false,
    "nbgrader": {
     "cell_type": "code",
     "checksum": "c3644325e7dd128473a05377f2225547",
     "grade": true,
     "grade_id": "cell-652e6438158ef135",
     "locked": true,
     "points": 1,
     "schema_version": 3,
     "solution": false,
     "task": false
    }
   },
   "outputs": [],
   "source": [
    "#hidden tests are within this cell"
   ]
  },
  {
   "cell_type": "markdown",
   "metadata": {
    "deletable": false,
    "editable": false,
    "nbgrader": {
     "cell_type": "markdown",
     "checksum": "958b141ed0e5ebd90bfba1129fa0cddc",
     "grade": false,
     "grade_id": "cell-4ce641a66b2d69ad",
     "locked": true,
     "schema_version": 3,
     "solution": false,
     "task": false
    }
   },
   "source": [
    "## 4.0 Persist data\n",
    "\n",
    "### 4.1 Recheck data."
   ]
  },
  {
   "cell_type": "code",
   "execution_count": 38,
   "metadata": {},
   "outputs": [
    {
     "name": "stdout",
     "output_type": "stream",
     "text": [
      "<class 'pandas.core.frame.DataFrame'>\n",
      "RangeIndex: 68412 entries, 0 to 68411\n",
      "Data columns (total 16 columns):\n",
      " #   Column                                  Non-Null Count  Dtype  \n",
      "---  ------                                  --------------  -----  \n",
      " 0   Fiscal Year                             68412 non-null  int64  \n",
      " 1   Fiscal Quarter                          68412 non-null  int64  \n",
      " 2   Service Line                            68412 non-null  object \n",
      " 3   Service                                 68412 non-null  object \n",
      " 4   Sub Service                             68412 non-null  object \n",
      " 5   Train Number                            68412 non-null  int64  \n",
      " 6   Arrival Station Code                    68412 non-null  object \n",
      " 7   Arrival Station Name                    68412 non-null  object \n",
      " 8   Arrival Station                         68412 non-null  object \n",
      " 9   State                                   68412 non-null  object \n",
      " 10  Division                                68412 non-null  object \n",
      " 11  Region                                  68412 non-null  object \n",
      " 12  Country                                 68412 non-null  object \n",
      " 13  Total Detraining Customers              68412 non-null  int64  \n",
      " 14  Late Detraining Customers               68412 non-null  int64  \n",
      " 15  Late Detraining Customers Avg Min Late  57373 non-null  float64\n",
      "dtypes: float64(1), int64(5), object(10)\n",
      "memory usage: 8.4+ MB\n"
     ]
    }
   ],
   "source": [
    "stations.info()"
   ]
  },
  {
   "cell_type": "markdown",
   "metadata": {
    "deletable": false,
    "editable": false,
    "nbgrader": {
     "cell_type": "markdown",
     "checksum": "a362689c264bf1e5cd129a0b52bc52f0",
     "grade": false,
     "grade_id": "cell-01032de45b8db87f",
     "locked": true,
     "schema_version": 3,
     "solution": false,
     "task": false
    }
   },
   "source": [
    "### 4.2 Write to file [1 pt]\n",
    "\n",
    "Write data to a CSV file."
   ]
  },
  {
   "cell_type": "code",
   "execution_count": 39,
   "metadata": {},
   "outputs": [],
   "source": [
    "filepath = data_interim_path.joinpath(\"station_performance_metrics-v1p1.csv\")\n",
    "stations.to_csv(filepath, index=False)"
   ]
  },
  {
   "cell_type": "code",
   "execution_count": null,
   "metadata": {
    "deletable": false,
    "editable": false,
    "nbgrader": {
     "cell_type": "code",
     "checksum": "272475f8db1a4d1a14bce03e009789b9",
     "grade": true,
     "grade_id": "cell-2a8a8be46f2d6ad4",
     "locked": true,
     "points": 1,
     "schema_version": 3,
     "solution": false,
     "task": false
    }
   },
   "outputs": [],
   "source": [
    "#hidden tests are within this cell"
   ]
  },
  {
   "cell_type": "markdown",
   "metadata": {
    "deletable": false,
    "editable": false,
    "nbgrader": {
     "cell_type": "markdown",
     "checksum": "3bb09eecb1c493cb9994a25d8bbef001",
     "grade": false,
     "grade_id": "cell-7f44f1a11334b4f5",
     "locked": true,
     "schema_version": 3,
     "solution": false,
     "task": false
    }
   },
   "source": [
    "## 5.0 Watermark"
   ]
  },
  {
   "cell_type": "code",
   "execution_count": 40,
   "metadata": {},
   "outputs": [
    {
     "name": "stdout",
     "output_type": "stream",
     "text": [
      "Python implementation: CPython\n",
      "Python version       : 3.11.9\n",
      "IPython version      : 8.26.0\n",
      "\n",
      "Compiler    : GCC 12.3.0\n",
      "OS          : Linux\n",
      "Release     : 6.5.0-1020-aws\n",
      "Machine     : x86_64\n",
      "Processor   : x86_64\n",
      "CPU cores   : 32\n",
      "Architecture: 64bit\n",
      "\n",
      "Hostname: e738d0a7f38b\n",
      "\n",
      "pandas: 2.2.3\n",
      "re    : 2.2.1\n",
      "numpy : 2.1.3\n",
      "json  : 2.0.9\n",
      "\n"
     ]
    }
   ],
   "source": [
    "%load_ext watermark\n",
    "%watermark -h -i -iv -m -v"
   ]
  },
  {
   "cell_type": "code",
   "execution_count": null,
   "metadata": {},
   "outputs": [],
   "source": []
  }
 ],
 "metadata": {
  "kernelspec": {
   "display_name": "Python 3.11 (ipykernel)",
   "language": "python",
   "name": "python3"
  },
  "language_info": {
   "codemirror_mode": {
    "name": "ipython",
    "version": 3
   },
   "file_extension": ".py",
   "mimetype": "text/x-python",
   "name": "python",
   "nbconvert_exporter": "python",
   "pygments_lexer": "ipython3",
   "version": "3.11.9"
  }
 },
 "nbformat": 4,
 "nbformat_minor": 4
}
